{
  "nbformat": 4,
  "nbformat_minor": 0,
  "metadata": {
    "colab": {
      "name": "PYTHON NOTEBOOK FOR PREDICTION OF HOUSE PRICES.ipynb",
      "provenance": [],
      "collapsed_sections": [],
      "toc_visible": true,
      "authorship_tag": "ABX9TyOC/uErMyQeu58M1Om4fhEC",
      "include_colab_link": true
    },
    "kernelspec": {
      "name": "python3",
      "display_name": "Python 3"
    },
    "language_info": {
      "name": "python"
    }
  },
  "cells": [
    {
      "cell_type": "markdown",
      "metadata": {
        "id": "view-in-github",
        "colab_type": "text"
      },
      "source": [
        "<a href=\"https://colab.research.google.com/github/MoreenMarutaData/PREDICTION-OF-HOUSING-PRICES-FOR-HASS-CONSULTING-COMPANY-COMPANY/blob/main/PYTHON_NOTEBOOK_FOR_PREDICTION_OF_HOUSE_PRICES.ipynb\" target=\"_parent\"><img src=\"https://colab.research.google.com/assets/colab-badge.svg\" alt=\"Open In Colab\"/></a>"
      ]
    },
    {
      "cell_type": "markdown",
      "metadata": {
        "id": "GNH5HPNHRMDj"
      },
      "source": [
        "# PREDICTION OF HOUSE PRICES FOR HASS COMPANY"
      ]
    },
    {
      "cell_type": "markdown",
      "metadata": {
        "id": "H6Mq-SzTRXSa"
      },
      "source": [
        "## Define the question"
      ]
    },
    {
      "cell_type": "markdown",
      "metadata": {
        "id": "x-UgHLm_Uqbv"
      },
      "source": [
        "I have been recruited as a data scientist to help provide the best model for future prediction of prices for houses given some data on the features of the houses"
      ]
    },
    {
      "cell_type": "markdown",
      "metadata": {
        "id": "nSdcobTGUyU4"
      },
      "source": [
        "### The Metric for Success"
      ]
    },
    {
      "cell_type": "markdown",
      "metadata": {
        "id": "9W2JNuIfU8Sg"
      },
      "source": [
        "To find the best model that predicts the prices of a house given various features values"
      ]
    },
    {
      "cell_type": "markdown",
      "metadata": {
        "id": "R8TcfQVjVFjT"
      },
      "source": [
        "### Understanding the context"
      ]
    },
    {
      "cell_type": "markdown",
      "metadata": {
        "id": "fc2MAa43VRGm"
      },
      "source": [
        "There are various regression models used in machine learning. Depending on the features, accuracy, RMSE, R Score and MSE, a good regression model should be choosen, so it is easier to predict the prices of houses for clients."
      ]
    },
    {
      "cell_type": "markdown",
      "metadata": {
        "id": "I2hLm-w1VmIg"
      },
      "source": [
        "### The Experimental Design"
      ]
    },
    {
      "cell_type": "markdown",
      "metadata": {
        "id": "XQF9njLTVsE4"
      },
      "source": [
        "Reading the Data\n",
        "\n",
        "Prepaing and cleaning the Data\n",
        "\n",
        "Exploratory Data Analysis\n",
        "\n",
        "Carrying out various regression models\n",
        "\n",
        "Conclusions and recommendations"
      ]
    },
    {
      "cell_type": "markdown",
      "metadata": {
        "id": "CVdDl7z-g6ty"
      },
      "source": [
        "## IMPORT LIBRARIES"
      ]
    },
    {
      "cell_type": "code",
      "metadata": {
        "id": "OKTWh-clE3FV"
      },
      "source": [
        "# Import the libraries\n",
        "import pandas as pd\n",
        "import numpy as np\n",
        "import matplotlib.pyplot as plt\n",
        "import seaborn as sns\n",
        "# Regression Libraries libraries\n",
        "from sklearn import linear_model\n",
        "from sklearn.metrics import mean_squared_error\n",
        "from sklearn.linear_model import LinearRegression\n",
        "from sklearn.linear_model import LogisticRegression\n",
        "from sklearn.linear_model import Ridge\n",
        "from sklearn.linear_model import Lasso\n",
        "from sklearn.linear_model import ElasticNet\n",
        "from sklearn.preprocessing import PolynomialFeatures\n",
        "# Other ML Libraries\n",
        "from sklearn.model_selection import train_test_split\n",
        "from sklearn.model_selection import GridSearchCV\n",
        "from sklearn import metrics\n",
        "from sklearn.metrics import confusion_matrix\n",
        "from sklearn.metrics import accuracy_score\n",
        "from sklearn.metrics import r2_score\n",
        "from sklearn.preprocessing import OrdinalEncoder\n",
        "from sklearn.preprocessing import StandardScaler\n"
      ],
      "execution_count": null,
      "outputs": []
    },
    {
      "cell_type": "markdown",
      "metadata": {
        "id": "sKwYFeX7I-Dr"
      },
      "source": [
        "## LOAD THE DATASET AND DESCRIPTION"
      ]
    },
    {
      "cell_type": "code",
      "metadata": {
        "colab": {
          "base_uri": "https://localhost:8080/"
        },
        "id": "nVvAq9ZFE3Aj",
        "outputId": "6c499872-2965-43e7-9ef9-f071827ac810"
      },
      "source": [
        "housing=pd.read_csv('http://bit.ly/IndependentProjectWeek7Dataset')\n",
        "housing"
      ],
      "execution_count": null,
      "outputs": [
        {
          "output_type": "execute_result",
          "data": {
            "text/html": [
              "<div>\n",
              "<style scoped>\n",
              "    .dataframe tbody tr th:only-of-type {\n",
              "        vertical-align: middle;\n",
              "    }\n",
              "\n",
              "    .dataframe tbody tr th {\n",
              "        vertical-align: top;\n",
              "    }\n",
              "\n",
              "    .dataframe thead th {\n",
              "        text-align: right;\n",
              "    }\n",
              "</style>\n",
              "<table border=\"1\" class=\"dataframe\">\n",
              "  <thead>\n",
              "    <tr style=\"text-align: right;\">\n",
              "      <th></th>\n",
              "      <th>id</th>\n",
              "      <th>price</th>\n",
              "      <th>bedrooms</th>\n",
              "      <th>bathrooms</th>\n",
              "      <th>sqft_living</th>\n",
              "      <th>sqft_lot</th>\n",
              "      <th>floors</th>\n",
              "      <th>waterfront</th>\n",
              "      <th>view</th>\n",
              "      <th>condition</th>\n",
              "      <th>grade</th>\n",
              "      <th>sqft_above</th>\n",
              "      <th>sqft_basement</th>\n",
              "      <th>yr_built</th>\n",
              "      <th>yr_renovated</th>\n",
              "      <th>zipcode</th>\n",
              "      <th>lat</th>\n",
              "      <th>long</th>\n",
              "      <th>sqft_living15</th>\n",
              "      <th>sqft_lot15</th>\n",
              "    </tr>\n",
              "  </thead>\n",
              "  <tbody>\n",
              "    <tr>\n",
              "      <th>0</th>\n",
              "      <td>7129300520</td>\n",
              "      <td>221900.0</td>\n",
              "      <td>3</td>\n",
              "      <td>1.00</td>\n",
              "      <td>1180</td>\n",
              "      <td>5650</td>\n",
              "      <td>1.0</td>\n",
              "      <td>0</td>\n",
              "      <td>0</td>\n",
              "      <td>3</td>\n",
              "      <td>7</td>\n",
              "      <td>1180</td>\n",
              "      <td>0</td>\n",
              "      <td>1955</td>\n",
              "      <td>0</td>\n",
              "      <td>98178</td>\n",
              "      <td>47.5112</td>\n",
              "      <td>-122.257</td>\n",
              "      <td>1340</td>\n",
              "      <td>5650</td>\n",
              "    </tr>\n",
              "    <tr>\n",
              "      <th>1</th>\n",
              "      <td>6414100192</td>\n",
              "      <td>538000.0</td>\n",
              "      <td>3</td>\n",
              "      <td>2.25</td>\n",
              "      <td>2570</td>\n",
              "      <td>7242</td>\n",
              "      <td>2.0</td>\n",
              "      <td>0</td>\n",
              "      <td>0</td>\n",
              "      <td>3</td>\n",
              "      <td>7</td>\n",
              "      <td>2170</td>\n",
              "      <td>400</td>\n",
              "      <td>1951</td>\n",
              "      <td>1991</td>\n",
              "      <td>98125</td>\n",
              "      <td>47.7210</td>\n",
              "      <td>-122.319</td>\n",
              "      <td>1690</td>\n",
              "      <td>7639</td>\n",
              "    </tr>\n",
              "    <tr>\n",
              "      <th>2</th>\n",
              "      <td>5631500400</td>\n",
              "      <td>180000.0</td>\n",
              "      <td>2</td>\n",
              "      <td>1.00</td>\n",
              "      <td>770</td>\n",
              "      <td>10000</td>\n",
              "      <td>1.0</td>\n",
              "      <td>0</td>\n",
              "      <td>0</td>\n",
              "      <td>3</td>\n",
              "      <td>6</td>\n",
              "      <td>770</td>\n",
              "      <td>0</td>\n",
              "      <td>1933</td>\n",
              "      <td>0</td>\n",
              "      <td>98028</td>\n",
              "      <td>47.7379</td>\n",
              "      <td>-122.233</td>\n",
              "      <td>2720</td>\n",
              "      <td>8062</td>\n",
              "    </tr>\n",
              "    <tr>\n",
              "      <th>3</th>\n",
              "      <td>2487200875</td>\n",
              "      <td>604000.0</td>\n",
              "      <td>4</td>\n",
              "      <td>3.00</td>\n",
              "      <td>1960</td>\n",
              "      <td>5000</td>\n",
              "      <td>1.0</td>\n",
              "      <td>0</td>\n",
              "      <td>0</td>\n",
              "      <td>5</td>\n",
              "      <td>7</td>\n",
              "      <td>1050</td>\n",
              "      <td>910</td>\n",
              "      <td>1965</td>\n",
              "      <td>0</td>\n",
              "      <td>98136</td>\n",
              "      <td>47.5208</td>\n",
              "      <td>-122.393</td>\n",
              "      <td>1360</td>\n",
              "      <td>5000</td>\n",
              "    </tr>\n",
              "    <tr>\n",
              "      <th>4</th>\n",
              "      <td>1954400510</td>\n",
              "      <td>510000.0</td>\n",
              "      <td>3</td>\n",
              "      <td>2.00</td>\n",
              "      <td>1680</td>\n",
              "      <td>8080</td>\n",
              "      <td>1.0</td>\n",
              "      <td>0</td>\n",
              "      <td>0</td>\n",
              "      <td>3</td>\n",
              "      <td>8</td>\n",
              "      <td>1680</td>\n",
              "      <td>0</td>\n",
              "      <td>1987</td>\n",
              "      <td>0</td>\n",
              "      <td>98074</td>\n",
              "      <td>47.6168</td>\n",
              "      <td>-122.045</td>\n",
              "      <td>1800</td>\n",
              "      <td>7503</td>\n",
              "    </tr>\n",
              "    <tr>\n",
              "      <th>...</th>\n",
              "      <td>...</td>\n",
              "      <td>...</td>\n",
              "      <td>...</td>\n",
              "      <td>...</td>\n",
              "      <td>...</td>\n",
              "      <td>...</td>\n",
              "      <td>...</td>\n",
              "      <td>...</td>\n",
              "      <td>...</td>\n",
              "      <td>...</td>\n",
              "      <td>...</td>\n",
              "      <td>...</td>\n",
              "      <td>...</td>\n",
              "      <td>...</td>\n",
              "      <td>...</td>\n",
              "      <td>...</td>\n",
              "      <td>...</td>\n",
              "      <td>...</td>\n",
              "      <td>...</td>\n",
              "      <td>...</td>\n",
              "    </tr>\n",
              "    <tr>\n",
              "      <th>21608</th>\n",
              "      <td>263000018</td>\n",
              "      <td>360000.0</td>\n",
              "      <td>3</td>\n",
              "      <td>2.50</td>\n",
              "      <td>1530</td>\n",
              "      <td>1131</td>\n",
              "      <td>3.0</td>\n",
              "      <td>0</td>\n",
              "      <td>0</td>\n",
              "      <td>3</td>\n",
              "      <td>8</td>\n",
              "      <td>1530</td>\n",
              "      <td>0</td>\n",
              "      <td>2009</td>\n",
              "      <td>0</td>\n",
              "      <td>98103</td>\n",
              "      <td>47.6993</td>\n",
              "      <td>-122.346</td>\n",
              "      <td>1530</td>\n",
              "      <td>1509</td>\n",
              "    </tr>\n",
              "    <tr>\n",
              "      <th>21609</th>\n",
              "      <td>6600060120</td>\n",
              "      <td>400000.0</td>\n",
              "      <td>4</td>\n",
              "      <td>2.50</td>\n",
              "      <td>2310</td>\n",
              "      <td>5813</td>\n",
              "      <td>2.0</td>\n",
              "      <td>0</td>\n",
              "      <td>0</td>\n",
              "      <td>3</td>\n",
              "      <td>8</td>\n",
              "      <td>2310</td>\n",
              "      <td>0</td>\n",
              "      <td>2014</td>\n",
              "      <td>0</td>\n",
              "      <td>98146</td>\n",
              "      <td>47.5107</td>\n",
              "      <td>-122.362</td>\n",
              "      <td>1830</td>\n",
              "      <td>7200</td>\n",
              "    </tr>\n",
              "    <tr>\n",
              "      <th>21610</th>\n",
              "      <td>1523300141</td>\n",
              "      <td>402101.0</td>\n",
              "      <td>2</td>\n",
              "      <td>0.75</td>\n",
              "      <td>1020</td>\n",
              "      <td>1350</td>\n",
              "      <td>2.0</td>\n",
              "      <td>0</td>\n",
              "      <td>0</td>\n",
              "      <td>3</td>\n",
              "      <td>7</td>\n",
              "      <td>1020</td>\n",
              "      <td>0</td>\n",
              "      <td>2009</td>\n",
              "      <td>0</td>\n",
              "      <td>98144</td>\n",
              "      <td>47.5944</td>\n",
              "      <td>-122.299</td>\n",
              "      <td>1020</td>\n",
              "      <td>2007</td>\n",
              "    </tr>\n",
              "    <tr>\n",
              "      <th>21611</th>\n",
              "      <td>291310100</td>\n",
              "      <td>400000.0</td>\n",
              "      <td>3</td>\n",
              "      <td>2.50</td>\n",
              "      <td>1600</td>\n",
              "      <td>2388</td>\n",
              "      <td>2.0</td>\n",
              "      <td>0</td>\n",
              "      <td>0</td>\n",
              "      <td>3</td>\n",
              "      <td>8</td>\n",
              "      <td>1600</td>\n",
              "      <td>0</td>\n",
              "      <td>2004</td>\n",
              "      <td>0</td>\n",
              "      <td>98027</td>\n",
              "      <td>47.5345</td>\n",
              "      <td>-122.069</td>\n",
              "      <td>1410</td>\n",
              "      <td>1287</td>\n",
              "    </tr>\n",
              "    <tr>\n",
              "      <th>21612</th>\n",
              "      <td>1523300157</td>\n",
              "      <td>325000.0</td>\n",
              "      <td>2</td>\n",
              "      <td>0.75</td>\n",
              "      <td>1020</td>\n",
              "      <td>1076</td>\n",
              "      <td>2.0</td>\n",
              "      <td>0</td>\n",
              "      <td>0</td>\n",
              "      <td>3</td>\n",
              "      <td>7</td>\n",
              "      <td>1020</td>\n",
              "      <td>0</td>\n",
              "      <td>2008</td>\n",
              "      <td>0</td>\n",
              "      <td>98144</td>\n",
              "      <td>47.5941</td>\n",
              "      <td>-122.299</td>\n",
              "      <td>1020</td>\n",
              "      <td>1357</td>\n",
              "    </tr>\n",
              "  </tbody>\n",
              "</table>\n",
              "<p>21613 rows × 20 columns</p>\n",
              "</div>"
            ],
            "text/plain": [
              "               id     price  bedrooms  ...     long  sqft_living15  sqft_lot15\n",
              "0      7129300520  221900.0         3  ... -122.257           1340        5650\n",
              "1      6414100192  538000.0         3  ... -122.319           1690        7639\n",
              "2      5631500400  180000.0         2  ... -122.233           2720        8062\n",
              "3      2487200875  604000.0         4  ... -122.393           1360        5000\n",
              "4      1954400510  510000.0         3  ... -122.045           1800        7503\n",
              "...           ...       ...       ...  ...      ...            ...         ...\n",
              "21608   263000018  360000.0         3  ... -122.346           1530        1509\n",
              "21609  6600060120  400000.0         4  ... -122.362           1830        7200\n",
              "21610  1523300141  402101.0         2  ... -122.299           1020        2007\n",
              "21611   291310100  400000.0         3  ... -122.069           1410        1287\n",
              "21612  1523300157  325000.0         2  ... -122.299           1020        1357\n",
              "\n",
              "[21613 rows x 20 columns]"
            ]
          },
          "metadata": {},
          "execution_count": 2
        }
      ]
    },
    {
      "cell_type": "markdown",
      "metadata": {
        "id": "aiorTnLyHjQw"
      },
      "source": [
        "\n",
        "*   Id \n",
        "* price  - Price of the house\n",
        "* bedrooms - Number of Bedrooms\n",
        "* bathrooms - Number of Bathrooms\n",
        "* sqft_living - Square feet area of living area\n",
        "* sqft_lot  - Square feet area of parking Layout\n",
        "* floors - Number of Floors\n",
        "* waterfront - Whether waterfront is there or not\n",
        "* view - Number of Views\n",
        "* grade - Grades\n",
        "* sqft_above\n",
        "* sqft_basement - Square feet area off basement\n",
        "* yr_built - Year the house is built\n",
        "* yr_renovated - Year the house is renovated\n",
        "* zipcode - zipcode of the house\n",
        "* lat : Latitude of the house\n",
        "* lon : Longitude of the house\n",
        "* sqft_living15\n",
        "* sqft_lot15\n",
        "\n"
      ]
    },
    {
      "cell_type": "markdown",
      "metadata": {
        "id": "JRg_YVihJLj8"
      },
      "source": [
        "## DATA UNDERSTANDING AND CLEANING"
      ]
    },
    {
      "cell_type": "code",
      "metadata": {
        "colab": {
          "base_uri": "https://localhost:8080/",
          "height": 220
        },
        "id": "CrLwUSZHIQyh",
        "outputId": "474867b9-69ef-472c-bed6-1c81b906e32b"
      },
      "source": [
        "housing.head()"
      ],
      "execution_count": null,
      "outputs": [
        {
          "output_type": "execute_result",
          "data": {
            "text/html": [
              "<div>\n",
              "<style scoped>\n",
              "    .dataframe tbody tr th:only-of-type {\n",
              "        vertical-align: middle;\n",
              "    }\n",
              "\n",
              "    .dataframe tbody tr th {\n",
              "        vertical-align: top;\n",
              "    }\n",
              "\n",
              "    .dataframe thead th {\n",
              "        text-align: right;\n",
              "    }\n",
              "</style>\n",
              "<table border=\"1\" class=\"dataframe\">\n",
              "  <thead>\n",
              "    <tr style=\"text-align: right;\">\n",
              "      <th></th>\n",
              "      <th>id</th>\n",
              "      <th>price</th>\n",
              "      <th>bedrooms</th>\n",
              "      <th>bathrooms</th>\n",
              "      <th>sqft_living</th>\n",
              "      <th>sqft_lot</th>\n",
              "      <th>floors</th>\n",
              "      <th>waterfront</th>\n",
              "      <th>view</th>\n",
              "      <th>condition</th>\n",
              "      <th>grade</th>\n",
              "      <th>sqft_above</th>\n",
              "      <th>sqft_basement</th>\n",
              "      <th>yr_built</th>\n",
              "      <th>yr_renovated</th>\n",
              "      <th>zipcode</th>\n",
              "      <th>lat</th>\n",
              "      <th>long</th>\n",
              "      <th>sqft_living15</th>\n",
              "      <th>sqft_lot15</th>\n",
              "    </tr>\n",
              "  </thead>\n",
              "  <tbody>\n",
              "    <tr>\n",
              "      <th>0</th>\n",
              "      <td>7129300520</td>\n",
              "      <td>221900.0</td>\n",
              "      <td>3</td>\n",
              "      <td>1.00</td>\n",
              "      <td>1180</td>\n",
              "      <td>5650</td>\n",
              "      <td>1.0</td>\n",
              "      <td>0</td>\n",
              "      <td>0</td>\n",
              "      <td>3</td>\n",
              "      <td>7</td>\n",
              "      <td>1180</td>\n",
              "      <td>0</td>\n",
              "      <td>1955</td>\n",
              "      <td>0</td>\n",
              "      <td>98178</td>\n",
              "      <td>47.5112</td>\n",
              "      <td>-122.257</td>\n",
              "      <td>1340</td>\n",
              "      <td>5650</td>\n",
              "    </tr>\n",
              "    <tr>\n",
              "      <th>1</th>\n",
              "      <td>6414100192</td>\n",
              "      <td>538000.0</td>\n",
              "      <td>3</td>\n",
              "      <td>2.25</td>\n",
              "      <td>2570</td>\n",
              "      <td>7242</td>\n",
              "      <td>2.0</td>\n",
              "      <td>0</td>\n",
              "      <td>0</td>\n",
              "      <td>3</td>\n",
              "      <td>7</td>\n",
              "      <td>2170</td>\n",
              "      <td>400</td>\n",
              "      <td>1951</td>\n",
              "      <td>1991</td>\n",
              "      <td>98125</td>\n",
              "      <td>47.7210</td>\n",
              "      <td>-122.319</td>\n",
              "      <td>1690</td>\n",
              "      <td>7639</td>\n",
              "    </tr>\n",
              "    <tr>\n",
              "      <th>2</th>\n",
              "      <td>5631500400</td>\n",
              "      <td>180000.0</td>\n",
              "      <td>2</td>\n",
              "      <td>1.00</td>\n",
              "      <td>770</td>\n",
              "      <td>10000</td>\n",
              "      <td>1.0</td>\n",
              "      <td>0</td>\n",
              "      <td>0</td>\n",
              "      <td>3</td>\n",
              "      <td>6</td>\n",
              "      <td>770</td>\n",
              "      <td>0</td>\n",
              "      <td>1933</td>\n",
              "      <td>0</td>\n",
              "      <td>98028</td>\n",
              "      <td>47.7379</td>\n",
              "      <td>-122.233</td>\n",
              "      <td>2720</td>\n",
              "      <td>8062</td>\n",
              "    </tr>\n",
              "    <tr>\n",
              "      <th>3</th>\n",
              "      <td>2487200875</td>\n",
              "      <td>604000.0</td>\n",
              "      <td>4</td>\n",
              "      <td>3.00</td>\n",
              "      <td>1960</td>\n",
              "      <td>5000</td>\n",
              "      <td>1.0</td>\n",
              "      <td>0</td>\n",
              "      <td>0</td>\n",
              "      <td>5</td>\n",
              "      <td>7</td>\n",
              "      <td>1050</td>\n",
              "      <td>910</td>\n",
              "      <td>1965</td>\n",
              "      <td>0</td>\n",
              "      <td>98136</td>\n",
              "      <td>47.5208</td>\n",
              "      <td>-122.393</td>\n",
              "      <td>1360</td>\n",
              "      <td>5000</td>\n",
              "    </tr>\n",
              "    <tr>\n",
              "      <th>4</th>\n",
              "      <td>1954400510</td>\n",
              "      <td>510000.0</td>\n",
              "      <td>3</td>\n",
              "      <td>2.00</td>\n",
              "      <td>1680</td>\n",
              "      <td>8080</td>\n",
              "      <td>1.0</td>\n",
              "      <td>0</td>\n",
              "      <td>0</td>\n",
              "      <td>3</td>\n",
              "      <td>8</td>\n",
              "      <td>1680</td>\n",
              "      <td>0</td>\n",
              "      <td>1987</td>\n",
              "      <td>0</td>\n",
              "      <td>98074</td>\n",
              "      <td>47.6168</td>\n",
              "      <td>-122.045</td>\n",
              "      <td>1800</td>\n",
              "      <td>7503</td>\n",
              "    </tr>\n",
              "  </tbody>\n",
              "</table>\n",
              "</div>"
            ],
            "text/plain": [
              "           id     price  bedrooms  ...     long  sqft_living15  sqft_lot15\n",
              "0  7129300520  221900.0         3  ... -122.257           1340        5650\n",
              "1  6414100192  538000.0         3  ... -122.319           1690        7639\n",
              "2  5631500400  180000.0         2  ... -122.233           2720        8062\n",
              "3  2487200875  604000.0         4  ... -122.393           1360        5000\n",
              "4  1954400510  510000.0         3  ... -122.045           1800        7503\n",
              "\n",
              "[5 rows x 20 columns]"
            ]
          },
          "metadata": {},
          "execution_count": 3
        }
      ]
    },
    {
      "cell_type": "code",
      "metadata": {
        "colab": {
          "base_uri": "https://localhost:8080/",
          "height": 220
        },
        "id": "UGNx7gvDE2f8",
        "outputId": "7f5988c6-ddce-49e7-fd3c-987fddd3742d"
      },
      "source": [
        "housing.tail()"
      ],
      "execution_count": null,
      "outputs": [
        {
          "output_type": "execute_result",
          "data": {
            "text/html": [
              "<div>\n",
              "<style scoped>\n",
              "    .dataframe tbody tr th:only-of-type {\n",
              "        vertical-align: middle;\n",
              "    }\n",
              "\n",
              "    .dataframe tbody tr th {\n",
              "        vertical-align: top;\n",
              "    }\n",
              "\n",
              "    .dataframe thead th {\n",
              "        text-align: right;\n",
              "    }\n",
              "</style>\n",
              "<table border=\"1\" class=\"dataframe\">\n",
              "  <thead>\n",
              "    <tr style=\"text-align: right;\">\n",
              "      <th></th>\n",
              "      <th>id</th>\n",
              "      <th>price</th>\n",
              "      <th>bedrooms</th>\n",
              "      <th>bathrooms</th>\n",
              "      <th>sqft_living</th>\n",
              "      <th>sqft_lot</th>\n",
              "      <th>floors</th>\n",
              "      <th>waterfront</th>\n",
              "      <th>view</th>\n",
              "      <th>condition</th>\n",
              "      <th>grade</th>\n",
              "      <th>sqft_above</th>\n",
              "      <th>sqft_basement</th>\n",
              "      <th>yr_built</th>\n",
              "      <th>yr_renovated</th>\n",
              "      <th>zipcode</th>\n",
              "      <th>lat</th>\n",
              "      <th>long</th>\n",
              "      <th>sqft_living15</th>\n",
              "      <th>sqft_lot15</th>\n",
              "    </tr>\n",
              "  </thead>\n",
              "  <tbody>\n",
              "    <tr>\n",
              "      <th>21608</th>\n",
              "      <td>263000018</td>\n",
              "      <td>360000.0</td>\n",
              "      <td>3</td>\n",
              "      <td>2.50</td>\n",
              "      <td>1530</td>\n",
              "      <td>1131</td>\n",
              "      <td>3.0</td>\n",
              "      <td>0</td>\n",
              "      <td>0</td>\n",
              "      <td>3</td>\n",
              "      <td>8</td>\n",
              "      <td>1530</td>\n",
              "      <td>0</td>\n",
              "      <td>2009</td>\n",
              "      <td>0</td>\n",
              "      <td>98103</td>\n",
              "      <td>47.6993</td>\n",
              "      <td>-122.346</td>\n",
              "      <td>1530</td>\n",
              "      <td>1509</td>\n",
              "    </tr>\n",
              "    <tr>\n",
              "      <th>21609</th>\n",
              "      <td>6600060120</td>\n",
              "      <td>400000.0</td>\n",
              "      <td>4</td>\n",
              "      <td>2.50</td>\n",
              "      <td>2310</td>\n",
              "      <td>5813</td>\n",
              "      <td>2.0</td>\n",
              "      <td>0</td>\n",
              "      <td>0</td>\n",
              "      <td>3</td>\n",
              "      <td>8</td>\n",
              "      <td>2310</td>\n",
              "      <td>0</td>\n",
              "      <td>2014</td>\n",
              "      <td>0</td>\n",
              "      <td>98146</td>\n",
              "      <td>47.5107</td>\n",
              "      <td>-122.362</td>\n",
              "      <td>1830</td>\n",
              "      <td>7200</td>\n",
              "    </tr>\n",
              "    <tr>\n",
              "      <th>21610</th>\n",
              "      <td>1523300141</td>\n",
              "      <td>402101.0</td>\n",
              "      <td>2</td>\n",
              "      <td>0.75</td>\n",
              "      <td>1020</td>\n",
              "      <td>1350</td>\n",
              "      <td>2.0</td>\n",
              "      <td>0</td>\n",
              "      <td>0</td>\n",
              "      <td>3</td>\n",
              "      <td>7</td>\n",
              "      <td>1020</td>\n",
              "      <td>0</td>\n",
              "      <td>2009</td>\n",
              "      <td>0</td>\n",
              "      <td>98144</td>\n",
              "      <td>47.5944</td>\n",
              "      <td>-122.299</td>\n",
              "      <td>1020</td>\n",
              "      <td>2007</td>\n",
              "    </tr>\n",
              "    <tr>\n",
              "      <th>21611</th>\n",
              "      <td>291310100</td>\n",
              "      <td>400000.0</td>\n",
              "      <td>3</td>\n",
              "      <td>2.50</td>\n",
              "      <td>1600</td>\n",
              "      <td>2388</td>\n",
              "      <td>2.0</td>\n",
              "      <td>0</td>\n",
              "      <td>0</td>\n",
              "      <td>3</td>\n",
              "      <td>8</td>\n",
              "      <td>1600</td>\n",
              "      <td>0</td>\n",
              "      <td>2004</td>\n",
              "      <td>0</td>\n",
              "      <td>98027</td>\n",
              "      <td>47.5345</td>\n",
              "      <td>-122.069</td>\n",
              "      <td>1410</td>\n",
              "      <td>1287</td>\n",
              "    </tr>\n",
              "    <tr>\n",
              "      <th>21612</th>\n",
              "      <td>1523300157</td>\n",
              "      <td>325000.0</td>\n",
              "      <td>2</td>\n",
              "      <td>0.75</td>\n",
              "      <td>1020</td>\n",
              "      <td>1076</td>\n",
              "      <td>2.0</td>\n",
              "      <td>0</td>\n",
              "      <td>0</td>\n",
              "      <td>3</td>\n",
              "      <td>7</td>\n",
              "      <td>1020</td>\n",
              "      <td>0</td>\n",
              "      <td>2008</td>\n",
              "      <td>0</td>\n",
              "      <td>98144</td>\n",
              "      <td>47.5941</td>\n",
              "      <td>-122.299</td>\n",
              "      <td>1020</td>\n",
              "      <td>1357</td>\n",
              "    </tr>\n",
              "  </tbody>\n",
              "</table>\n",
              "</div>"
            ],
            "text/plain": [
              "               id     price  bedrooms  ...     long  sqft_living15  sqft_lot15\n",
              "21608   263000018  360000.0         3  ... -122.346           1530        1509\n",
              "21609  6600060120  400000.0         4  ... -122.362           1830        7200\n",
              "21610  1523300141  402101.0         2  ... -122.299           1020        2007\n",
              "21611   291310100  400000.0         3  ... -122.069           1410        1287\n",
              "21612  1523300157  325000.0         2  ... -122.299           1020        1357\n",
              "\n",
              "[5 rows x 20 columns]"
            ]
          },
          "metadata": {},
          "execution_count": 4
        }
      ]
    },
    {
      "cell_type": "code",
      "metadata": {
        "colab": {
          "base_uri": "https://localhost:8080/"
        },
        "id": "UUy0Y9aUE2Y8",
        "outputId": "41ebb65d-bb73-49cc-9be0-5174307bf6f3"
      },
      "source": [
        "housing.info()"
      ],
      "execution_count": null,
      "outputs": [
        {
          "output_type": "stream",
          "name": "stdout",
          "text": [
            "<class 'pandas.core.frame.DataFrame'>\n",
            "RangeIndex: 21613 entries, 0 to 21612\n",
            "Data columns (total 20 columns):\n",
            " #   Column         Non-Null Count  Dtype  \n",
            "---  ------         --------------  -----  \n",
            " 0   id             21613 non-null  int64  \n",
            " 1   price          21613 non-null  float64\n",
            " 2   bedrooms       21613 non-null  int64  \n",
            " 3   bathrooms      21613 non-null  float64\n",
            " 4   sqft_living    21613 non-null  int64  \n",
            " 5   sqft_lot       21613 non-null  int64  \n",
            " 6   floors         21613 non-null  float64\n",
            " 7   waterfront     21613 non-null  int64  \n",
            " 8   view           21613 non-null  int64  \n",
            " 9   condition      21613 non-null  int64  \n",
            " 10  grade          21613 non-null  int64  \n",
            " 11  sqft_above     21613 non-null  int64  \n",
            " 12  sqft_basement  21613 non-null  int64  \n",
            " 13  yr_built       21613 non-null  int64  \n",
            " 14  yr_renovated   21613 non-null  int64  \n",
            " 15  zipcode        21613 non-null  int64  \n",
            " 16  lat            21613 non-null  float64\n",
            " 17  long           21613 non-null  float64\n",
            " 18  sqft_living15  21613 non-null  int64  \n",
            " 19  sqft_lot15     21613 non-null  int64  \n",
            "dtypes: float64(5), int64(15)\n",
            "memory usage: 3.3 MB\n"
          ]
        }
      ]
    },
    {
      "cell_type": "code",
      "metadata": {
        "colab": {
          "base_uri": "https://localhost:8080/"
        },
        "id": "wdZNZZA0E2Q1",
        "outputId": "153f0eeb-11da-496e-b5a3-e56b0cddb792"
      },
      "source": [
        "housing.shape"
      ],
      "execution_count": null,
      "outputs": [
        {
          "output_type": "execute_result",
          "data": {
            "text/plain": [
              "(21613, 20)"
            ]
          },
          "metadata": {},
          "execution_count": 6
        }
      ]
    },
    {
      "cell_type": "code",
      "metadata": {
        "colab": {
          "base_uri": "https://localhost:8080/",
          "height": 310
        },
        "id": "Ykvr-MwaE2Ky",
        "outputId": "6ac195b8-aae8-4ad1-e49d-31a1cf3c0cd4"
      },
      "source": [
        "housing.describe()"
      ],
      "execution_count": null,
      "outputs": [
        {
          "output_type": "execute_result",
          "data": {
            "text/html": [
              "<div>\n",
              "<style scoped>\n",
              "    .dataframe tbody tr th:only-of-type {\n",
              "        vertical-align: middle;\n",
              "    }\n",
              "\n",
              "    .dataframe tbody tr th {\n",
              "        vertical-align: top;\n",
              "    }\n",
              "\n",
              "    .dataframe thead th {\n",
              "        text-align: right;\n",
              "    }\n",
              "</style>\n",
              "<table border=\"1\" class=\"dataframe\">\n",
              "  <thead>\n",
              "    <tr style=\"text-align: right;\">\n",
              "      <th></th>\n",
              "      <th>id</th>\n",
              "      <th>price</th>\n",
              "      <th>bedrooms</th>\n",
              "      <th>bathrooms</th>\n",
              "      <th>sqft_living</th>\n",
              "      <th>sqft_lot</th>\n",
              "      <th>floors</th>\n",
              "      <th>waterfront</th>\n",
              "      <th>view</th>\n",
              "      <th>condition</th>\n",
              "      <th>grade</th>\n",
              "      <th>sqft_above</th>\n",
              "      <th>sqft_basement</th>\n",
              "      <th>yr_built</th>\n",
              "      <th>yr_renovated</th>\n",
              "      <th>zipcode</th>\n",
              "      <th>lat</th>\n",
              "      <th>long</th>\n",
              "      <th>sqft_living15</th>\n",
              "      <th>sqft_lot15</th>\n",
              "    </tr>\n",
              "  </thead>\n",
              "  <tbody>\n",
              "    <tr>\n",
              "      <th>count</th>\n",
              "      <td>2.161300e+04</td>\n",
              "      <td>2.161300e+04</td>\n",
              "      <td>21613.000000</td>\n",
              "      <td>21613.000000</td>\n",
              "      <td>21613.000000</td>\n",
              "      <td>2.161300e+04</td>\n",
              "      <td>21613.000000</td>\n",
              "      <td>21613.000000</td>\n",
              "      <td>21613.000000</td>\n",
              "      <td>21613.000000</td>\n",
              "      <td>21613.000000</td>\n",
              "      <td>21613.000000</td>\n",
              "      <td>21613.000000</td>\n",
              "      <td>21613.000000</td>\n",
              "      <td>21613.000000</td>\n",
              "      <td>21613.000000</td>\n",
              "      <td>21613.000000</td>\n",
              "      <td>21613.000000</td>\n",
              "      <td>21613.000000</td>\n",
              "      <td>21613.000000</td>\n",
              "    </tr>\n",
              "    <tr>\n",
              "      <th>mean</th>\n",
              "      <td>4.580302e+09</td>\n",
              "      <td>5.401822e+05</td>\n",
              "      <td>3.370842</td>\n",
              "      <td>2.114757</td>\n",
              "      <td>2079.899736</td>\n",
              "      <td>1.510697e+04</td>\n",
              "      <td>1.494309</td>\n",
              "      <td>0.007542</td>\n",
              "      <td>0.234303</td>\n",
              "      <td>3.409430</td>\n",
              "      <td>7.656873</td>\n",
              "      <td>1788.390691</td>\n",
              "      <td>291.509045</td>\n",
              "      <td>1971.005136</td>\n",
              "      <td>84.402258</td>\n",
              "      <td>98077.939805</td>\n",
              "      <td>47.560053</td>\n",
              "      <td>-122.213896</td>\n",
              "      <td>1986.552492</td>\n",
              "      <td>12768.455652</td>\n",
              "    </tr>\n",
              "    <tr>\n",
              "      <th>std</th>\n",
              "      <td>2.876566e+09</td>\n",
              "      <td>3.673622e+05</td>\n",
              "      <td>0.930062</td>\n",
              "      <td>0.770163</td>\n",
              "      <td>918.440897</td>\n",
              "      <td>4.142051e+04</td>\n",
              "      <td>0.539989</td>\n",
              "      <td>0.086517</td>\n",
              "      <td>0.766318</td>\n",
              "      <td>0.650743</td>\n",
              "      <td>1.175459</td>\n",
              "      <td>828.090978</td>\n",
              "      <td>442.575043</td>\n",
              "      <td>29.373411</td>\n",
              "      <td>401.679240</td>\n",
              "      <td>53.505026</td>\n",
              "      <td>0.138564</td>\n",
              "      <td>0.140828</td>\n",
              "      <td>685.391304</td>\n",
              "      <td>27304.179631</td>\n",
              "    </tr>\n",
              "    <tr>\n",
              "      <th>min</th>\n",
              "      <td>1.000102e+06</td>\n",
              "      <td>7.500000e+04</td>\n",
              "      <td>0.000000</td>\n",
              "      <td>0.000000</td>\n",
              "      <td>290.000000</td>\n",
              "      <td>5.200000e+02</td>\n",
              "      <td>1.000000</td>\n",
              "      <td>0.000000</td>\n",
              "      <td>0.000000</td>\n",
              "      <td>1.000000</td>\n",
              "      <td>1.000000</td>\n",
              "      <td>290.000000</td>\n",
              "      <td>0.000000</td>\n",
              "      <td>1900.000000</td>\n",
              "      <td>0.000000</td>\n",
              "      <td>98001.000000</td>\n",
              "      <td>47.155900</td>\n",
              "      <td>-122.519000</td>\n",
              "      <td>399.000000</td>\n",
              "      <td>651.000000</td>\n",
              "    </tr>\n",
              "    <tr>\n",
              "      <th>25%</th>\n",
              "      <td>2.123049e+09</td>\n",
              "      <td>3.219500e+05</td>\n",
              "      <td>3.000000</td>\n",
              "      <td>1.750000</td>\n",
              "      <td>1427.000000</td>\n",
              "      <td>5.040000e+03</td>\n",
              "      <td>1.000000</td>\n",
              "      <td>0.000000</td>\n",
              "      <td>0.000000</td>\n",
              "      <td>3.000000</td>\n",
              "      <td>7.000000</td>\n",
              "      <td>1190.000000</td>\n",
              "      <td>0.000000</td>\n",
              "      <td>1951.000000</td>\n",
              "      <td>0.000000</td>\n",
              "      <td>98033.000000</td>\n",
              "      <td>47.471000</td>\n",
              "      <td>-122.328000</td>\n",
              "      <td>1490.000000</td>\n",
              "      <td>5100.000000</td>\n",
              "    </tr>\n",
              "    <tr>\n",
              "      <th>50%</th>\n",
              "      <td>3.904930e+09</td>\n",
              "      <td>4.500000e+05</td>\n",
              "      <td>3.000000</td>\n",
              "      <td>2.250000</td>\n",
              "      <td>1910.000000</td>\n",
              "      <td>7.618000e+03</td>\n",
              "      <td>1.500000</td>\n",
              "      <td>0.000000</td>\n",
              "      <td>0.000000</td>\n",
              "      <td>3.000000</td>\n",
              "      <td>7.000000</td>\n",
              "      <td>1560.000000</td>\n",
              "      <td>0.000000</td>\n",
              "      <td>1975.000000</td>\n",
              "      <td>0.000000</td>\n",
              "      <td>98065.000000</td>\n",
              "      <td>47.571800</td>\n",
              "      <td>-122.230000</td>\n",
              "      <td>1840.000000</td>\n",
              "      <td>7620.000000</td>\n",
              "    </tr>\n",
              "    <tr>\n",
              "      <th>75%</th>\n",
              "      <td>7.308900e+09</td>\n",
              "      <td>6.450000e+05</td>\n",
              "      <td>4.000000</td>\n",
              "      <td>2.500000</td>\n",
              "      <td>2550.000000</td>\n",
              "      <td>1.068800e+04</td>\n",
              "      <td>2.000000</td>\n",
              "      <td>0.000000</td>\n",
              "      <td>0.000000</td>\n",
              "      <td>4.000000</td>\n",
              "      <td>8.000000</td>\n",
              "      <td>2210.000000</td>\n",
              "      <td>560.000000</td>\n",
              "      <td>1997.000000</td>\n",
              "      <td>0.000000</td>\n",
              "      <td>98118.000000</td>\n",
              "      <td>47.678000</td>\n",
              "      <td>-122.125000</td>\n",
              "      <td>2360.000000</td>\n",
              "      <td>10083.000000</td>\n",
              "    </tr>\n",
              "    <tr>\n",
              "      <th>max</th>\n",
              "      <td>9.900000e+09</td>\n",
              "      <td>7.700000e+06</td>\n",
              "      <td>33.000000</td>\n",
              "      <td>8.000000</td>\n",
              "      <td>13540.000000</td>\n",
              "      <td>1.651359e+06</td>\n",
              "      <td>3.500000</td>\n",
              "      <td>1.000000</td>\n",
              "      <td>4.000000</td>\n",
              "      <td>5.000000</td>\n",
              "      <td>13.000000</td>\n",
              "      <td>9410.000000</td>\n",
              "      <td>4820.000000</td>\n",
              "      <td>2015.000000</td>\n",
              "      <td>2015.000000</td>\n",
              "      <td>98199.000000</td>\n",
              "      <td>47.777600</td>\n",
              "      <td>-121.315000</td>\n",
              "      <td>6210.000000</td>\n",
              "      <td>871200.000000</td>\n",
              "    </tr>\n",
              "  </tbody>\n",
              "</table>\n",
              "</div>"
            ],
            "text/plain": [
              "                 id         price  ...  sqft_living15     sqft_lot15\n",
              "count  2.161300e+04  2.161300e+04  ...   21613.000000   21613.000000\n",
              "mean   4.580302e+09  5.401822e+05  ...    1986.552492   12768.455652\n",
              "std    2.876566e+09  3.673622e+05  ...     685.391304   27304.179631\n",
              "min    1.000102e+06  7.500000e+04  ...     399.000000     651.000000\n",
              "25%    2.123049e+09  3.219500e+05  ...    1490.000000    5100.000000\n",
              "50%    3.904930e+09  4.500000e+05  ...    1840.000000    7620.000000\n",
              "75%    7.308900e+09  6.450000e+05  ...    2360.000000   10083.000000\n",
              "max    9.900000e+09  7.700000e+06  ...    6210.000000  871200.000000\n",
              "\n",
              "[8 rows x 20 columns]"
            ]
          },
          "metadata": {},
          "execution_count": 7
        }
      ]
    },
    {
      "cell_type": "markdown",
      "metadata": {
        "id": "Mk8PQINcLU-7"
      },
      "source": [
        "lets check for duplicate values in our dataset"
      ]
    },
    {
      "cell_type": "code",
      "metadata": {
        "colab": {
          "base_uri": "https://localhost:8080/"
        },
        "id": "uSplzdu3Kkjl",
        "outputId": "730beabe-c5ee-4cec-bf18-767b5be6428b"
      },
      "source": [
        "housing.duplicated().sum()"
      ],
      "execution_count": null,
      "outputs": [
        {
          "output_type": "execute_result",
          "data": {
            "text/plain": [
              "3"
            ]
          },
          "metadata": {},
          "execution_count": 8
        }
      ]
    },
    {
      "cell_type": "code",
      "metadata": {
        "id": "sV3BXk43MBWv",
        "colab": {
          "base_uri": "https://localhost:8080/",
          "height": 158
        },
        "outputId": "73c217d8-7c0e-42b9-8a69-37956445c96a"
      },
      "source": [
        "housing.loc[housing.duplicated(), :]"
      ],
      "execution_count": null,
      "outputs": [
        {
          "output_type": "execute_result",
          "data": {
            "text/html": [
              "<div>\n",
              "<style scoped>\n",
              "    .dataframe tbody tr th:only-of-type {\n",
              "        vertical-align: middle;\n",
              "    }\n",
              "\n",
              "    .dataframe tbody tr th {\n",
              "        vertical-align: top;\n",
              "    }\n",
              "\n",
              "    .dataframe thead th {\n",
              "        text-align: right;\n",
              "    }\n",
              "</style>\n",
              "<table border=\"1\" class=\"dataframe\">\n",
              "  <thead>\n",
              "    <tr style=\"text-align: right;\">\n",
              "      <th></th>\n",
              "      <th>id</th>\n",
              "      <th>price</th>\n",
              "      <th>bedrooms</th>\n",
              "      <th>bathrooms</th>\n",
              "      <th>sqft_living</th>\n",
              "      <th>sqft_lot</th>\n",
              "      <th>floors</th>\n",
              "      <th>waterfront</th>\n",
              "      <th>view</th>\n",
              "      <th>condition</th>\n",
              "      <th>grade</th>\n",
              "      <th>sqft_above</th>\n",
              "      <th>sqft_basement</th>\n",
              "      <th>yr_built</th>\n",
              "      <th>yr_renovated</th>\n",
              "      <th>zipcode</th>\n",
              "      <th>lat</th>\n",
              "      <th>long</th>\n",
              "      <th>sqft_living15</th>\n",
              "      <th>sqft_lot15</th>\n",
              "    </tr>\n",
              "  </thead>\n",
              "  <tbody>\n",
              "    <tr>\n",
              "      <th>3951</th>\n",
              "      <td>1825069031</td>\n",
              "      <td>550000.0</td>\n",
              "      <td>4</td>\n",
              "      <td>1.75</td>\n",
              "      <td>2410</td>\n",
              "      <td>8447</td>\n",
              "      <td>2.0</td>\n",
              "      <td>0</td>\n",
              "      <td>3</td>\n",
              "      <td>4</td>\n",
              "      <td>8</td>\n",
              "      <td>2060</td>\n",
              "      <td>350</td>\n",
              "      <td>1936</td>\n",
              "      <td>1980</td>\n",
              "      <td>98074</td>\n",
              "      <td>47.6499</td>\n",
              "      <td>-122.088</td>\n",
              "      <td>2520</td>\n",
              "      <td>14789</td>\n",
              "    </tr>\n",
              "    <tr>\n",
              "      <th>14983</th>\n",
              "      <td>6308000010</td>\n",
              "      <td>585000.0</td>\n",
              "      <td>3</td>\n",
              "      <td>2.50</td>\n",
              "      <td>2290</td>\n",
              "      <td>5089</td>\n",
              "      <td>2.0</td>\n",
              "      <td>0</td>\n",
              "      <td>0</td>\n",
              "      <td>3</td>\n",
              "      <td>9</td>\n",
              "      <td>2290</td>\n",
              "      <td>0</td>\n",
              "      <td>2001</td>\n",
              "      <td>0</td>\n",
              "      <td>98006</td>\n",
              "      <td>47.5443</td>\n",
              "      <td>-122.172</td>\n",
              "      <td>2290</td>\n",
              "      <td>7984</td>\n",
              "    </tr>\n",
              "    <tr>\n",
              "      <th>20054</th>\n",
              "      <td>8648900110</td>\n",
              "      <td>555000.0</td>\n",
              "      <td>3</td>\n",
              "      <td>2.50</td>\n",
              "      <td>1940</td>\n",
              "      <td>3211</td>\n",
              "      <td>2.0</td>\n",
              "      <td>0</td>\n",
              "      <td>0</td>\n",
              "      <td>3</td>\n",
              "      <td>8</td>\n",
              "      <td>1940</td>\n",
              "      <td>0</td>\n",
              "      <td>2009</td>\n",
              "      <td>0</td>\n",
              "      <td>98027</td>\n",
              "      <td>47.5644</td>\n",
              "      <td>-122.093</td>\n",
              "      <td>1880</td>\n",
              "      <td>3078</td>\n",
              "    </tr>\n",
              "  </tbody>\n",
              "</table>\n",
              "</div>"
            ],
            "text/plain": [
              "               id     price  bedrooms  ...     long  sqft_living15  sqft_lot15\n",
              "3951   1825069031  550000.0         4  ... -122.088           2520       14789\n",
              "14983  6308000010  585000.0         3  ... -122.172           2290        7984\n",
              "20054  8648900110  555000.0         3  ... -122.093           1880        3078\n",
              "\n",
              "[3 rows x 20 columns]"
            ]
          },
          "metadata": {},
          "execution_count": 9
        }
      ]
    },
    {
      "cell_type": "code",
      "metadata": {
        "colab": {
          "base_uri": "https://localhost:8080/"
        },
        "id": "zxYnGTDDW79R",
        "outputId": "4b384119-c4e5-424c-db85-286590f8f67d"
      },
      "source": [
        "housing=housing.drop_duplicates(keep=False)\n",
        "housing.duplicated().sum()"
      ],
      "execution_count": null,
      "outputs": [
        {
          "output_type": "execute_result",
          "data": {
            "text/plain": [
              "0"
            ]
          },
          "metadata": {},
          "execution_count": 10
        }
      ]
    },
    {
      "cell_type": "code",
      "metadata": {
        "colab": {
          "base_uri": "https://localhost:8080/"
        },
        "id": "9fbxNimnM7xE",
        "outputId": "8777784d-9416-4d2f-f6e5-8cd06116c100"
      },
      "source": [
        "housing.shape"
      ],
      "execution_count": null,
      "outputs": [
        {
          "output_type": "execute_result",
          "data": {
            "text/plain": [
              "(21607, 20)"
            ]
          },
          "metadata": {},
          "execution_count": 11
        }
      ]
    },
    {
      "cell_type": "markdown",
      "metadata": {
        "id": "hTopFMlpXmeg"
      },
      "source": [
        "lets check for missing values"
      ]
    },
    {
      "cell_type": "code",
      "metadata": {
        "colab": {
          "base_uri": "https://localhost:8080/"
        },
        "id": "IOCbpnxjXV9D",
        "outputId": "1e111f88-81b6-4c32-8402-49f507a82aa8"
      },
      "source": [
        "housing.isnull().sum()"
      ],
      "execution_count": null,
      "outputs": [
        {
          "output_type": "execute_result",
          "data": {
            "text/plain": [
              "id               0\n",
              "price            0\n",
              "bedrooms         0\n",
              "bathrooms        0\n",
              "sqft_living      0\n",
              "sqft_lot         0\n",
              "floors           0\n",
              "waterfront       0\n",
              "view             0\n",
              "condition        0\n",
              "grade            0\n",
              "sqft_above       0\n",
              "sqft_basement    0\n",
              "yr_built         0\n",
              "yr_renovated     0\n",
              "zipcode          0\n",
              "lat              0\n",
              "long             0\n",
              "sqft_living15    0\n",
              "sqft_lot15       0\n",
              "dtype: int64"
            ]
          },
          "metadata": {},
          "execution_count": 12
        }
      ]
    },
    {
      "cell_type": "markdown",
      "metadata": {
        "id": "bBGVFTq_bbPW"
      },
      "source": [
        "lets hande the columns.First check the year columns\n"
      ]
    },
    {
      "cell_type": "code",
      "metadata": {
        "colab": {
          "base_uri": "https://localhost:8080/"
        },
        "id": "QEAFKIe2bed-",
        "outputId": "efb64dfd-58ac-430f-9c12-f7b86516d29a"
      },
      "source": [
        "housing['yr_renovated'].unique()"
      ],
      "execution_count": null,
      "outputs": [
        {
          "output_type": "execute_result",
          "data": {
            "text/plain": [
              "array([   0, 1991, 2002, 2010, 1999, 1992, 2013, 1994, 1978, 2005, 2008,\n",
              "       2003, 1984, 1954, 2014, 2011, 1974, 1983, 1945, 1990, 1988, 1957,\n",
              "       1977, 1981, 1995, 2000, 1998, 1970, 1989, 2004, 1986, 2009, 2007,\n",
              "       1987, 1973, 2006, 1985, 2001, 1980, 1971, 1979, 1997, 1950, 1969,\n",
              "       1948, 2015, 1968, 2012, 1963, 1951, 1993, 1962, 1996, 1972, 1953,\n",
              "       1955, 1982, 1956, 1940, 1976, 1946, 1975, 1958, 1964, 1959, 1960,\n",
              "       1967, 1965, 1934, 1944])"
            ]
          },
          "metadata": {},
          "execution_count": 13
        }
      ]
    },
    {
      "cell_type": "markdown",
      "metadata": {
        "id": "pVdCED_SOTHF"
      },
      "source": [
        "lets call the dataframe that has renovated houses R_houses"
      ]
    },
    {
      "cell_type": "code",
      "metadata": {
        "colab": {
          "base_uri": "https://localhost:8080/"
        },
        "id": "ewhWoZhWNQV8",
        "outputId": "ad6ac3cf-c134-495a-b235-4e771ee9040e"
      },
      "source": [
        "R_houses=housing[housing['yr_renovated']!=0].value_counts()\n",
        "R_houses.head()"
      ],
      "execution_count": null,
      "outputs": [
        {
          "output_type": "execute_result",
          "data": {
            "text/plain": [
              "id          price      bedrooms  bathrooms  sqft_living  sqft_lot  floors  waterfront  view  condition  grade  sqft_above  sqft_basement  yr_built  yr_renovated  zipcode  lat      long      sqft_living15  sqft_lot15\n",
              "9829200250  1700000.0  3         2.00       2600         6600      2.0     0           4     3          10     1930        670            1970      2014          98122    47.6055  -122.285  2670           6270          1\n",
              "2489200070  767500.0   6         3.50       2410         6000      2.0     0           4     3          9      2220        190            1916      1990          98136    47.5400  -122.382  1980           6000          1\n",
              "2481630180  1140000.0  4         2.25       3310         127631    2.0     0           0     5          9      3310        0              1924      1956          98072    47.7320  -122.134  3830           43959         1\n",
              "2473100635  297950.0   3         2.00       1240         10800     1.0     0           0     3          7      1240        0              1967      2010          98058    47.4490  -122.155  1480           8840          1\n",
              "2473100450  330000.0   4         2.00       1590         9100      1.0     0           0     3          7      1040        550            1967      2014          98058    47.4465  -122.156  1670           9100          1\n",
              "dtype: int64"
            ]
          },
          "metadata": {},
          "execution_count": 14
        }
      ]
    },
    {
      "cell_type": "code",
      "metadata": {
        "colab": {
          "base_uri": "https://localhost:8080/"
        },
        "id": "J95Ytt4iO4Lp",
        "outputId": "749a44c5-2eee-4585-a2b4-4209563acba1"
      },
      "source": [
        "housing.shape"
      ],
      "execution_count": null,
      "outputs": [
        {
          "output_type": "execute_result",
          "data": {
            "text/plain": [
              "(21607, 20)"
            ]
          },
          "metadata": {},
          "execution_count": 15
        }
      ]
    },
    {
      "cell_type": "code",
      "metadata": {
        "colab": {
          "base_uri": "https://localhost:8080/"
        },
        "id": "CNNtsCeVNHye",
        "outputId": "115aad6e-9801-44f7-d517-14bb0ca968df"
      },
      "source": [
        "housing.shape"
      ],
      "execution_count": null,
      "outputs": [
        {
          "output_type": "execute_result",
          "data": {
            "text/plain": [
              "(21607, 20)"
            ]
          },
          "metadata": {},
          "execution_count": 16
        }
      ]
    },
    {
      "cell_type": "markdown",
      "metadata": {
        "id": "YIuFzTdiuKbK"
      },
      "source": [
        "lets drop unnecessary columns. sqft iving and sqft above are same so i'll drop sqft above, sqft lot 15 and sqft living 15."
      ]
    },
    {
      "cell_type": "code",
      "metadata": {
        "colab": {
          "base_uri": "https://localhost:8080/"
        },
        "id": "mcu5ZNODxPn2",
        "outputId": "3c10fc91-3db6-4bf9-d5bc-d8323e9acb42"
      },
      "source": [
        "housing.columns"
      ],
      "execution_count": null,
      "outputs": [
        {
          "output_type": "execute_result",
          "data": {
            "text/plain": [
              "Index(['id', 'price', 'bedrooms', 'bathrooms', 'sqft_living', 'sqft_lot',\n",
              "       'floors', 'waterfront', 'view', 'condition', 'grade', 'sqft_above',\n",
              "       'sqft_basement', 'yr_built', 'yr_renovated', 'zipcode', 'lat', 'long',\n",
              "       'sqft_living15', 'sqft_lot15'],\n",
              "      dtype='object')"
            ]
          },
          "metadata": {},
          "execution_count": 17
        }
      ]
    },
    {
      "cell_type": "code",
      "metadata": {
        "id": "1OmzWl9ouKGD"
      },
      "source": [
        "housing=housing.drop([ 'sqft_above','sqft_living15', 'sqft_lot15'], axis=1)"
      ],
      "execution_count": null,
      "outputs": []
    },
    {
      "cell_type": "markdown",
      "metadata": {
        "id": "jX5vb9hMKQ7z"
      },
      "source": [
        "check for unique values in all columns"
      ]
    },
    {
      "cell_type": "code",
      "metadata": {
        "colab": {
          "base_uri": "https://localhost:8080/"
        },
        "id": "uXG-njWKx7Md",
        "outputId": "02cbc1b5-a318-4f47-853b-e1380208f0b7"
      },
      "source": [
        "#Lets see when the houses were renovated\n",
        "r =housing.yr_renovated.unique()\n",
        "print(r.max())\n",
        "print(r.min())"
      ],
      "execution_count": null,
      "outputs": [
        {
          "output_type": "stream",
          "name": "stdout",
          "text": [
            "2015\n",
            "0\n"
          ]
        }
      ]
    },
    {
      "cell_type": "code",
      "metadata": {
        "colab": {
          "base_uri": "https://localhost:8080/"
        },
        "id": "LXAyhrTi02Gv",
        "outputId": "3d4e5f27-609f-481e-a543-ef0f479f3688"
      },
      "source": [
        "b=housing.yr_built.unique()\n",
        "print(b.max())\n",
        "print(b.min())"
      ],
      "execution_count": null,
      "outputs": [
        {
          "output_type": "stream",
          "name": "stdout",
          "text": [
            "2015\n",
            "1900\n"
          ]
        }
      ]
    },
    {
      "cell_type": "code",
      "metadata": {
        "colab": {
          "base_uri": "https://localhost:8080/"
        },
        "id": "GqvkImht1XaX",
        "outputId": "0826b9ca-a326-4dd5-8922-dc81aecade48"
      },
      "source": [
        "bed=housing.bathrooms.unique()\n",
        "bed"
      ],
      "execution_count": null,
      "outputs": [
        {
          "output_type": "execute_result",
          "data": {
            "text/plain": [
              "array([1.  , 2.25, 3.  , 2.  , 4.5 , 1.5 , 2.5 , 1.75, 2.75, 3.25, 4.  ,\n",
              "       3.5 , 0.75, 4.75, 5.  , 4.25, 3.75, 0.  , 1.25, 5.25, 6.  , 0.5 ,\n",
              "       5.5 , 6.75, 5.75, 8.  , 7.5 , 7.75, 6.25, 6.5 ])"
            ]
          },
          "metadata": {},
          "execution_count": 21
        }
      ]
    },
    {
      "cell_type": "code",
      "metadata": {
        "colab": {
          "base_uri": "https://localhost:8080/"
        },
        "id": "FgJjDLxc1mGP",
        "outputId": "126ac76d-829f-4a17-c5c1-729c5b6c48aa"
      },
      "source": [
        "bath=housing.bedrooms.unique()\n",
        "bath"
      ],
      "execution_count": null,
      "outputs": [
        {
          "output_type": "execute_result",
          "data": {
            "text/plain": [
              "array([ 3,  2,  4,  5,  1,  6,  7,  0,  8,  9, 11, 10, 33])"
            ]
          },
          "metadata": {},
          "execution_count": 22
        }
      ]
    },
    {
      "cell_type": "code",
      "metadata": {
        "colab": {
          "base_uri": "https://localhost:8080/"
        },
        "id": "vBAW7IvY1yp5",
        "outputId": "2bf1de20-f5c9-4181-be83-74ead2903aec"
      },
      "source": [
        "floors=housing.floors.unique()\n",
        "floors"
      ],
      "execution_count": null,
      "outputs": [
        {
          "output_type": "execute_result",
          "data": {
            "text/plain": [
              "array([1. , 2. , 1.5, 3. , 2.5, 3.5])"
            ]
          },
          "metadata": {},
          "execution_count": 23
        }
      ]
    },
    {
      "cell_type": "code",
      "metadata": {
        "colab": {
          "base_uri": "https://localhost:8080/"
        },
        "id": "u8j7lhrh2C0r",
        "outputId": "2539d320-0518-4cdb-c8c5-323fbd667e6f"
      },
      "source": [
        "wf=housing.waterfront.unique()\n",
        "wf"
      ],
      "execution_count": null,
      "outputs": [
        {
          "output_type": "execute_result",
          "data": {
            "text/plain": [
              "array([0, 1])"
            ]
          },
          "metadata": {},
          "execution_count": 24
        }
      ]
    },
    {
      "cell_type": "code",
      "metadata": {
        "colab": {
          "base_uri": "https://localhost:8080/"
        },
        "id": "W_uT5FG72Wqc",
        "outputId": "f6f78518-dbe4-40b8-bbbc-dd99a6283bf3"
      },
      "source": [
        "c=housing.condition.unique()\n",
        "c"
      ],
      "execution_count": null,
      "outputs": [
        {
          "output_type": "execute_result",
          "data": {
            "text/plain": [
              "array([3, 5, 4, 1, 2])"
            ]
          },
          "metadata": {},
          "execution_count": 25
        }
      ]
    },
    {
      "cell_type": "code",
      "metadata": {
        "colab": {
          "base_uri": "https://localhost:8080/"
        },
        "id": "I260OIgP2egU",
        "outputId": "252ec6ca-796f-45b1-c4d3-3f61ad0f21ea"
      },
      "source": [
        "g=housing.grade.unique()\n",
        "g"
      ],
      "execution_count": null,
      "outputs": [
        {
          "output_type": "execute_result",
          "data": {
            "text/plain": [
              "array([ 7,  6,  8, 11,  9,  5, 10, 12,  4,  3, 13,  1])"
            ]
          },
          "metadata": {},
          "execution_count": 26
        }
      ]
    },
    {
      "cell_type": "code",
      "metadata": {
        "colab": {
          "base_uri": "https://localhost:8080/"
        },
        "id": "yqtGtiMJAnrB",
        "outputId": "f4267a76-ab03-4cf7-d842-2376432a633d"
      },
      "source": [
        "p=housing.price.unique()\n",
        "p"
      ],
      "execution_count": null,
      "outputs": [
        {
          "output_type": "execute_result",
          "data": {
            "text/plain": [
              "array([221900., 538000., 180000., ..., 541800., 610685., 402101.])"
            ]
          },
          "metadata": {},
          "execution_count": 27
        }
      ]
    },
    {
      "cell_type": "markdown",
      "metadata": {
        "id": "u9I9OY9yoXes"
      },
      "source": [
        "check for outliers"
      ]
    },
    {
      "cell_type": "code",
      "metadata": {
        "colab": {
          "base_uri": "https://localhost:8080/"
        },
        "id": "lT4qK2ET3Ntb",
        "outputId": "40fedfea-c510-4b2d-b71b-998c7211e01d"
      },
      "source": [
        "housing.columns"
      ],
      "execution_count": null,
      "outputs": [
        {
          "output_type": "execute_result",
          "data": {
            "text/plain": [
              "Index(['id', 'price', 'bedrooms', 'bathrooms', 'sqft_living', 'sqft_lot',\n",
              "       'floors', 'waterfront', 'view', 'condition', 'grade', 'sqft_basement',\n",
              "       'yr_built', 'yr_renovated', 'zipcode', 'lat', 'long'],\n",
              "      dtype='object')"
            ]
          },
          "metadata": {},
          "execution_count": 28
        }
      ]
    },
    {
      "cell_type": "code",
      "metadata": {
        "id": "wLstODr-iFNC",
        "colab": {
          "base_uri": "https://localhost:8080/",
          "height": 1000
        },
        "outputId": "e5c08c4a-390c-4512-e4fe-fa41da487291"
      },
      "source": [
        "col_names = [ 'price', 'bedrooms', 'bathrooms', 'sqft_living', 'sqft_lot', 'sqft_basement', 'lat', 'long']\n",
        "\n",
        "fig, ax = plt.subplots(len(col_names), figsize = (20,35))\n",
        "for i, col_val in enumerate(col_names):\n",
        "      sns.boxplot(x = housing[col_val], ax=ax[i])\n",
        "      ax[i].set_title('A boxplot of the {} column'.format(col_val), fontsize=18)\n",
        "      # ax[i].set_xlabel(col_val, fontsize=8)\n",
        "plt.show()"
      ],
      "execution_count": null,
      "outputs": [
        {
          "output_type": "display_data",
          "data": {
            "image/png": "[encoded data removed]",
            "text/plain": [
              "<Figure size 1440x2520 with 8 Axes>"
            ]
          },
          "metadata": {
            "needs_background": "light"
          }
        }
      ]
    },
    {
      "cell_type": "markdown",
      "metadata": {
        "id": "fLMv9MmEJEX3"
      },
      "source": [
        "we have a lot of outliers but let us remove them for the purpose of the model we'll try later on"
      ]
    },
    {
      "cell_type": "code",
      "metadata": {
        "colab": {
          "base_uri": "https://localhost:8080/"
        },
        "id": "GuSOO973MHPw",
        "outputId": "9ef8e48f-e15e-4794-89fd-4ac44de63058"
      },
      "source": [
        "housing.shape"
      ],
      "execution_count": null,
      "outputs": [
        {
          "output_type": "execute_result",
          "data": {
            "text/plain": [
              "(21607, 17)"
            ]
          },
          "metadata": {},
          "execution_count": 30
        }
      ]
    },
    {
      "cell_type": "code",
      "metadata": {
        "colab": {
          "base_uri": "https://localhost:8080/"
        },
        "id": "fEKgTu9OJWbo",
        "outputId": "f5580a4a-aad1-4416-c75a-9f3a0e4eb0c2"
      },
      "source": [
        "#Dealing with outliers \n",
        "Q1 = housing.quantile(0.25)\n",
        "Q3 = housing.quantile(0.75)\n",
        "IQR = Q3 - Q1\n",
        "\n",
        "# Removing outliers based on the IQR range \n",
        "housing = housing[~((housing < (Q1 - 1.5 * IQR)) | (housing > (Q3 + 1.5 * IQR))).any(axis=1)]\n",
        "\n",
        "# Print the shape of the new dataset\n",
        "print(housing.shape)\n"
      ],
      "execution_count": null,
      "outputs": [
        {
          "output_type": "stream",
          "name": "stdout",
          "text": [
            "(15139, 17)\n"
          ]
        }
      ]
    },
    {
      "cell_type": "markdown",
      "metadata": {
        "id": "DWN_NfDqPKxA"
      },
      "source": [
        "## EXPLORATORY DATA ANALYSIS"
      ]
    },
    {
      "cell_type": "code",
      "metadata": {
        "colab": {
          "base_uri": "https://localhost:8080/"
        },
        "id": "LvEo117MJWVs",
        "outputId": "534fd157-4a83-41e6-a098-317746bc7dc7"
      },
      "source": [
        "housing.columns"
      ],
      "execution_count": null,
      "outputs": [
        {
          "output_type": "execute_result",
          "data": {
            "text/plain": [
              "Index(['id', 'price', 'bedrooms', 'bathrooms', 'sqft_living', 'sqft_lot',\n",
              "       'floors', 'waterfront', 'view', 'condition', 'grade', 'sqft_basement',\n",
              "       'yr_built', 'yr_renovated', 'zipcode', 'lat', 'long'],\n",
              "      dtype='object')"
            ]
          },
          "metadata": {},
          "execution_count": 32
        }
      ]
    },
    {
      "cell_type": "code",
      "metadata": {
        "colab": {
          "base_uri": "https://localhost:8080/",
          "height": 1000
        },
        "id": "U3SQtwh0JWEr",
        "outputId": "4fd0142b-d5a4-4645-f715-e8fede553b7a"
      },
      "source": [
        "housing.hist(bins=10, figsize=(20,20))\n",
        "plt.suptitle(\"Histograms showing distribution of the columns in the dataset\")\n",
        "plt.savefig('Histogram')\n",
        "plt.show()"
      ],
      "execution_count": null,
      "outputs": [
        {
          "output_type": "display_data",
          "data": {
            "image/png": "[encoded data removed]",
            "text/plain": [
              "<Figure size 1440x1440 with 20 Axes>"
            ]
          },
          "metadata": {
            "needs_background": "light"
          }
        }
      ]
    },
    {
      "cell_type": "code",
      "metadata": {
        "id": "eEW9MzNWJWBB"
      },
      "source": [
        ""
      ],
      "execution_count": null,
      "outputs": []
    },
    {
      "cell_type": "code",
      "metadata": {
        "colab": {
          "base_uri": "https://localhost:8080/",
          "height": 347
        },
        "id": "KfOFIO3DJV9n",
        "outputId": "4e81a797-eb23-4ef5-b14b-c8b6aa930fce"
      },
      "source": [
        "# Checking the distribution of the dependent variable, Price\n",
        "sns.distplot(housing['price'], kde = False, color ='green', bins = 50)"
      ],
      "execution_count": null,
      "outputs": [
        {
          "output_type": "stream",
          "name": "stderr",
          "text": [
            "/usr/local/lib/python3.7/dist-packages/seaborn/distributions.py:2619: FutureWarning: `distplot` is a deprecated function and will be removed in a future version. Please adapt your code to use either `displot` (a figure-level function with similar flexibility) or `histplot` (an axes-level function for histograms).\n",
            "  warnings.warn(msg, FutureWarning)\n"
          ]
        },
        {
          "output_type": "execute_result",
          "data": {
            "text/plain": [
              "<matplotlib.axes._subplots.AxesSubplot at 0x7fd3165ede10>"
            ]
          },
          "metadata": {},
          "execution_count": 34
        },
        {
          "output_type": "display_data",
          "data": {
            "image/png": "[encoded data removed]",
            "text/plain": [
              "<Figure size 432x288 with 1 Axes>"
            ]
          },
          "metadata": {
            "needs_background": "light"
          }
        }
      ]
    },
    {
      "cell_type": "code",
      "metadata": {
        "colab": {
          "base_uri": "https://localhost:8080/",
          "height": 303
        },
        "id": "wednXF_1Z9Ta",
        "outputId": "2831285e-e001-4ab7-a04d-85c5099d72d3"
      },
      "source": [
        "housing['floors'].value_counts().plot.bar(title='No of Floors')"
      ],
      "execution_count": null,
      "outputs": [
        {
          "output_type": "execute_result",
          "data": {
            "text/plain": [
              "<matplotlib.axes._subplots.AxesSubplot at 0x7fd31616c950>"
            ]
          },
          "metadata": {},
          "execution_count": 35
        },
        {
          "output_type": "display_data",
          "data": {
            "image/png": "[encoded data removed]",
            "text/plain": [
              "<Figure size 432x288 with 1 Axes>"
            ]
          },
          "metadata": {
            "needs_background": "light"
          }
        }
      ]
    },
    {
      "cell_type": "code",
      "metadata": {
        "colab": {
          "base_uri": "https://localhost:8080/",
          "height": 293
        },
        "id": "5oyr0le5aBkh",
        "outputId": "266e0cec-b027-44b9-913e-0bf8d87ede34"
      },
      "source": [
        "housing['condition'].value_counts().plot.bar(title='Condition of houses')"
      ],
      "execution_count": null,
      "outputs": [
        {
          "output_type": "execute_result",
          "data": {
            "text/plain": [
              "<matplotlib.axes._subplots.AxesSubplot at 0x7fd3160e3f10>"
            ]
          },
          "metadata": {},
          "execution_count": 36
        },
        {
          "output_type": "display_data",
          "data": {
            "image/png": "[encoded data removed]",
            "text/plain": [
              "<Figure size 432x288 with 1 Axes>"
            ]
          },
          "metadata": {
            "needs_background": "light"
          }
        }
      ]
    },
    {
      "cell_type": "code",
      "metadata": {
        "colab": {
          "base_uri": "https://localhost:8080/",
          "height": 293
        },
        "id": "TkbipZbNaNqn",
        "outputId": "54ee8f3a-9b3e-4c87-cb5c-8eac2c541915"
      },
      "source": [
        "housing['bedrooms'].value_counts().plot.bar(title='No of bedrooms')"
      ],
      "execution_count": null,
      "outputs": [
        {
          "output_type": "execute_result",
          "data": {
            "text/plain": [
              "<matplotlib.axes._subplots.AxesSubplot at 0x7fd316050d90>"
            ]
          },
          "metadata": {},
          "execution_count": 37
        },
        {
          "output_type": "display_data",
          "data": {
            "image/png": "[encoded data removed]",
            "text/plain": [
              "<Figure size 432x288 with 1 Axes>"
            ]
          },
          "metadata": {
            "needs_background": "light"
          }
        }
      ]
    },
    {
      "cell_type": "code",
      "metadata": {
        "colab": {
          "base_uri": "https://localhost:8080/"
        },
        "id": "m4Dy2LhYYwKd",
        "outputId": "4198b4f7-f4a8-44c3-c478-96cc9e89c5e5"
      },
      "source": [
        "housing['price']"
      ],
      "execution_count": null,
      "outputs": [
        {
          "output_type": "execute_result",
          "data": {
            "text/plain": [
              "0        221900.0\n",
              "2        180000.0\n",
              "3        604000.0\n",
              "4        510000.0\n",
              "6        257500.0\n",
              "           ...   \n",
              "21608    360000.0\n",
              "21609    400000.0\n",
              "21610    402101.0\n",
              "21611    400000.0\n",
              "21612    325000.0\n",
              "Name: price, Length: 15139, dtype: float64"
            ]
          },
          "metadata": {},
          "execution_count": 38
        }
      ]
    },
    {
      "cell_type": "code",
      "metadata": {
        "colab": {
          "base_uri": "https://localhost:8080/",
          "height": 311
        },
        "id": "-NC1_DjjXjVp",
        "outputId": "135fa372-448a-4901-f8f0-ba4731eccb72"
      },
      "source": [
        "# price of the houses according to the number of bedrooms\n",
        "plt.scatter(housing.bedrooms, housing.price)\n",
        "plt.xlabel(\"Number of Bedrooms\")\n",
        "plt.ylabel(\"Price\")\n",
        "plt.title(\"Price per Number of Bedrooms\")"
      ],
      "execution_count": null,
      "outputs": [
        {
          "output_type": "execute_result",
          "data": {
            "text/plain": [
              "Text(0.5, 1.0, 'Price per Number of Bedrooms')"
            ]
          },
          "metadata": {},
          "execution_count": 40
        },
        {
          "output_type": "display_data",
          "data": {
            "image/png": "[encoded data removed]",
            "text/plain": [
              "<Figure size 432x288 with 1 Axes>"
            ]
          },
          "metadata": {
            "needs_background": "light"
          }
        }
      ]
    },
    {
      "cell_type": "code",
      "metadata": {
        "colab": {
          "base_uri": "https://localhost:8080/",
          "height": 311
        },
        "id": "0aEp1pmpYSq5",
        "outputId": "057f0b25-163b-4d20-810e-e07a78866bd6"
      },
      "source": [
        "# price of the houses according to the number of bathrooms\n",
        "plt.scatter(housing.bathrooms, housing.price.values)\n",
        "plt.xlabel(\"Number of Bathrooms\")\n",
        "plt.ylabel(\"Price\")\n",
        "plt.title(\"Price per Number of Bathrooms\")"
      ],
      "execution_count": null,
      "outputs": [
        {
          "output_type": "execute_result",
          "data": {
            "text/plain": [
              "Text(0.5, 1.0, 'Price per Number of Bathrooms')"
            ]
          },
          "metadata": {},
          "execution_count": 41
        },
        {
          "output_type": "display_data",
          "data": {
            "image/png": "[encoded data removed]",
            "text/plain": [
              "<Figure size 432x288 with 1 Axes>"
            ]
          },
          "metadata": {
            "needs_background": "light"
          }
        }
      ]
    },
    {
      "cell_type": "code",
      "metadata": {
        "colab": {
          "base_uri": "https://localhost:8080/",
          "height": 295
        },
        "id": "Z01jKhrmc0Ur",
        "outputId": "bdc11e86-bc19-4742-8313-84fb0a8a7880"
      },
      "source": [
        "sns.barplot(x = housing['grade'], y = housing['price'])\n",
        "plt.xlabel('Scale of grade')\n",
        "plt.ylabel('The price of homes')\n",
        "plt.title('The prices of houses as compared to the grade')\n",
        "plt.show()"
      ],
      "execution_count": null,
      "outputs": [
        {
          "output_type": "display_data",
          "data": {
            "image/png": "[encoded data removed]",
            "text/plain": [
              "<Figure size 432x288 with 1 Axes>"
            ]
          },
          "metadata": {
            "needs_background": "light"
          }
        }
      ]
    },
    {
      "cell_type": "code",
      "metadata": {
        "colab": {
          "base_uri": "https://localhost:8080/",
          "height": 311
        },
        "id": "tFN7zqTcad4t",
        "outputId": "cc9dd4c4-e23a-4b45-fb3e-f67300345e84"
      },
      "source": [
        "sns.scatterplot(y = housing['sqft_living'], x = housing['price'], hue_order='bedrooms')\n",
        "plt.ylabel('Square feet of living area')\n",
        "plt.xlabel('The price of homes')\n",
        "plt.title('The prices of houses as compared to the size of living area')\n",
        "plt.figure(figsize=(12,10))\n",
        "plt.show()"
      ],
      "execution_count": 101,
      "outputs": [
        {
          "output_type": "display_data",
          "data": {
            "image/png": "[encoded data removed]",
            "text/plain": [
              "<Figure size 432x288 with 1 Axes>"
            ]
          },
          "metadata": {
            "needs_background": "light"
          }
        },
        {
          "output_type": "display_data",
          "data": {
            "text/plain": [
              "<Figure size 864x720 with 0 Axes>"
            ]
          },
          "metadata": {}
        }
      ]
    },
    {
      "cell_type": "code",
      "metadata": {
        "colab": {
          "base_uri": "https://localhost:8080/",
          "height": 297
        },
        "id": "HAKq5KCyim31",
        "outputId": "4016a185-f244-42e6-8cdb-ef7753059a2b"
      },
      "source": [
        "sns.scatterplot(housing['long'], housing['lat'], hue=housing['price'], palette='Reds')"
      ],
      "execution_count": 99,
      "outputs": [
        {
          "output_type": "execute_result",
          "data": {
            "text/plain": [
              "<matplotlib.axes._subplots.AxesSubplot at 0x7fd315bb9a90>"
            ]
          },
          "metadata": {},
          "execution_count": 99
        },
        {
          "output_type": "display_data",
          "data": {
            "image/png": "[encoded data removed]",
            "text/plain": [
              "<Figure size 432x288 with 1 Axes>"
            ]
          },
          "metadata": {
            "needs_background": "light"
          }
        }
      ]
    },
    {
      "cell_type": "markdown",
      "metadata": {
        "id": "0WzuybN2Xczb"
      },
      "source": [
        "## REGRESSION"
      ]
    },
    {
      "cell_type": "markdown",
      "metadata": {
        "id": "8jK8BDntSiI6"
      },
      "source": [
        "### PRE PROCESSING"
      ]
    },
    {
      "cell_type": "code",
      "metadata": {
        "id": "ZG8GYZ-4akbP"
      },
      "source": [
        "df=housing.drop(columns=['zipcode'], inplace=False,axis=1)"
      ],
      "execution_count": null,
      "outputs": []
    },
    {
      "cell_type": "markdown",
      "metadata": {
        "id": "EgCi0Cl5KpYb"
      },
      "source": [
        "first we need to scale our values to values that are comparable to each other since some values like sqft of the living area are high and could end up carrying most weight for our model"
      ]
    },
    {
      "cell_type": "code",
      "metadata": {
        "colab": {
          "base_uri": "https://localhost:8080/",
          "height": 428
        },
        "id": "BYWz3vHnMJG9",
        "outputId": "64a8671d-e6f7-488a-a6aa-1b3f609704aa"
      },
      "source": [
        "from sklearn_pandas import DataFrameMapper\n",
        "mapper=DataFrameMapper([(df.columns, StandardScaler())])\n",
        "scaled_features = mapper.fit_transform(df.copy(), 14)\n",
        "df=pd.DataFrame(scaled_features, index=df.index, columns=df.columns)\n",
        "df"
      ],
      "execution_count": null,
      "outputs": [
        {
          "output_type": "execute_result",
          "data": {
            "text/html": [
              "<div>\n",
              "<style scoped>\n",
              "    .dataframe tbody tr th:only-of-type {\n",
              "        vertical-align: middle;\n",
              "    }\n",
              "\n",
              "    .dataframe tbody tr th {\n",
              "        vertical-align: top;\n",
              "    }\n",
              "\n",
              "    .dataframe thead th {\n",
              "        text-align: right;\n",
              "    }\n",
              "</style>\n",
              "<table border=\"1\" class=\"dataframe\">\n",
              "  <thead>\n",
              "    <tr style=\"text-align: right;\">\n",
              "      <th></th>\n",
              "      <th>id</th>\n",
              "      <th>price</th>\n",
              "      <th>bedrooms</th>\n",
              "      <th>bathrooms</th>\n",
              "      <th>sqft_living</th>\n",
              "      <th>sqft_lot</th>\n",
              "      <th>floors</th>\n",
              "      <th>waterfront</th>\n",
              "      <th>view</th>\n",
              "      <th>condition</th>\n",
              "      <th>grade</th>\n",
              "      <th>sqft_basement</th>\n",
              "      <th>yr_built</th>\n",
              "      <th>yr_renovated</th>\n",
              "      <th>lat</th>\n",
              "      <th>long</th>\n",
              "    </tr>\n",
              "  </thead>\n",
              "  <tbody>\n",
              "    <tr>\n",
              "      <th>0</th>\n",
              "      <td>0.843789</td>\n",
              "      <td>-1.198411</td>\n",
              "      <td>-0.344240</td>\n",
              "      <td>-1.503787</td>\n",
              "      <td>-1.026155</td>\n",
              "      <td>-0.412704</td>\n",
              "      <td>-0.861459</td>\n",
              "      <td>0.0</td>\n",
              "      <td>0.0</td>\n",
              "      <td>-0.650094</td>\n",
              "      <td>-0.475832</td>\n",
              "      <td>-0.645961</td>\n",
              "      <td>-0.574926</td>\n",
              "      <td>0.0</td>\n",
              "      <td>-0.333380</td>\n",
              "      <td>-0.225868</td>\n",
              "    </tr>\n",
              "    <tr>\n",
              "      <th>2</th>\n",
              "      <td>0.318285</td>\n",
              "      <td>-1.429073</td>\n",
              "      <td>-1.634840</td>\n",
              "      <td>-1.503787</td>\n",
              "      <td>-1.681090</td>\n",
              "      <td>0.851326</td>\n",
              "      <td>-0.861459</td>\n",
              "      <td>0.0</td>\n",
              "      <td>0.0</td>\n",
              "      <td>-0.650094</td>\n",
              "      <td>-1.712719</td>\n",
              "      <td>-0.645961</td>\n",
              "      <td>-1.328191</td>\n",
              "      <td>0.0</td>\n",
              "      <td>1.261033</td>\n",
              "      <td>-0.033003</td>\n",
              "    </tr>\n",
              "    <tr>\n",
              "      <th>3</th>\n",
              "      <td>-0.784893</td>\n",
              "      <td>0.905069</td>\n",
              "      <td>0.946361</td>\n",
              "      <td>1.579656</td>\n",
              "      <td>0.219820</td>\n",
              "      <td>-0.601582</td>\n",
              "      <td>-0.861459</td>\n",
              "      <td>0.0</td>\n",
              "      <td>0.0</td>\n",
              "      <td>2.438975</td>\n",
              "      <td>-0.475832</td>\n",
              "      <td>1.926391</td>\n",
              "      <td>-0.232533</td>\n",
              "      <td>0.0</td>\n",
              "      <td>-0.265862</td>\n",
              "      <td>-1.318764</td>\n",
              "    </tr>\n",
              "    <tr>\n",
              "      <th>4</th>\n",
              "      <td>-0.971826</td>\n",
              "      <td>0.387594</td>\n",
              "      <td>-0.344240</td>\n",
              "      <td>0.037935</td>\n",
              "      <td>-0.227453</td>\n",
              "      <td>0.293410</td>\n",
              "      <td>-0.861459</td>\n",
              "      <td>0.0</td>\n",
              "      <td>0.0</td>\n",
              "      <td>-0.650094</td>\n",
              "      <td>0.761054</td>\n",
              "      <td>-0.645961</td>\n",
              "      <td>0.520732</td>\n",
              "      <td>0.0</td>\n",
              "      <td>0.409320</td>\n",
              "      <td>1.477766</td>\n",
              "    </tr>\n",
              "    <tr>\n",
              "      <th>6</th>\n",
              "      <td>-1.193915</td>\n",
              "      <td>-1.002431</td>\n",
              "      <td>-0.344240</td>\n",
              "      <td>0.423365</td>\n",
              "      <td>-0.171544</td>\n",
              "      <td>-0.073014</td>\n",
              "      <td>0.965484</td>\n",
              "      <td>0.0</td>\n",
              "      <td>0.0</td>\n",
              "      <td>-0.650094</td>\n",
              "      <td>-0.475832</td>\n",
              "      <td>-0.645961</td>\n",
              "      <td>0.794647</td>\n",
              "      <td>0.0</td>\n",
              "      <td>-1.750558</td>\n",
              "      <td>-0.788388</td>\n",
              "    </tr>\n",
              "    <tr>\n",
              "      <th>...</th>\n",
              "      <td>...</td>\n",
              "      <td>...</td>\n",
              "      <td>...</td>\n",
              "      <td>...</td>\n",
              "      <td>...</td>\n",
              "      <td>...</td>\n",
              "      <td>...</td>\n",
              "      <td>...</td>\n",
              "      <td>...</td>\n",
              "      <td>...</td>\n",
              "      <td>...</td>\n",
              "      <td>...</td>\n",
              "      <td>...</td>\n",
              "      <td>...</td>\n",
              "      <td>...</td>\n",
              "      <td>...</td>\n",
              "    </tr>\n",
              "    <tr>\n",
              "      <th>21608</th>\n",
              "      <td>-1.565254</td>\n",
              "      <td>-0.438164</td>\n",
              "      <td>-0.344240</td>\n",
              "      <td>0.808795</td>\n",
              "      <td>-0.467063</td>\n",
              "      <td>-1.725842</td>\n",
              "      <td>2.792427</td>\n",
              "      <td>0.0</td>\n",
              "      <td>0.0</td>\n",
              "      <td>-0.650094</td>\n",
              "      <td>0.761054</td>\n",
              "      <td>-0.645961</td>\n",
              "      <td>1.273997</td>\n",
              "      <td>0.0</td>\n",
              "      <td>0.989554</td>\n",
              "      <td>-0.941072</td>\n",
              "    </tr>\n",
              "    <tr>\n",
              "      <th>21609</th>\n",
              "      <td>0.658105</td>\n",
              "      <td>-0.217962</td>\n",
              "      <td>0.946361</td>\n",
              "      <td>0.808795</td>\n",
              "      <td>0.778912</td>\n",
              "      <td>-0.365339</td>\n",
              "      <td>0.965484</td>\n",
              "      <td>0.0</td>\n",
              "      <td>0.0</td>\n",
              "      <td>-0.650094</td>\n",
              "      <td>0.761054</td>\n",
              "      <td>-0.645961</td>\n",
              "      <td>1.445193</td>\n",
              "      <td>0.0</td>\n",
              "      <td>-0.336897</td>\n",
              "      <td>-1.069648</td>\n",
              "    </tr>\n",
              "    <tr>\n",
              "      <th>21610</th>\n",
              "      <td>-1.123078</td>\n",
              "      <td>-0.206395</td>\n",
              "      <td>-1.634840</td>\n",
              "      <td>-1.889217</td>\n",
              "      <td>-1.281739</td>\n",
              "      <td>-1.662204</td>\n",
              "      <td>0.965484</td>\n",
              "      <td>0.0</td>\n",
              "      <td>0.0</td>\n",
              "      <td>-0.650094</td>\n",
              "      <td>-0.475832</td>\n",
              "      <td>-0.645961</td>\n",
              "      <td>1.273997</td>\n",
              "      <td>0.0</td>\n",
              "      <td>0.251777</td>\n",
              "      <td>-0.563380</td>\n",
              "    </tr>\n",
              "    <tr>\n",
              "      <th>21611</th>\n",
              "      <td>-1.555322</td>\n",
              "      <td>-0.217962</td>\n",
              "      <td>-0.344240</td>\n",
              "      <td>0.808795</td>\n",
              "      <td>-0.355245</td>\n",
              "      <td>-1.360581</td>\n",
              "      <td>0.965484</td>\n",
              "      <td>0.0</td>\n",
              "      <td>0.0</td>\n",
              "      <td>-0.650094</td>\n",
              "      <td>0.761054</td>\n",
              "      <td>-0.645961</td>\n",
              "      <td>1.102800</td>\n",
              "      <td>0.0</td>\n",
              "      <td>-0.169508</td>\n",
              "      <td>1.284901</td>\n",
              "    </tr>\n",
              "    <tr>\n",
              "      <th>21612</th>\n",
              "      <td>-1.123078</td>\n",
              "      <td>-0.630840</td>\n",
              "      <td>-1.634840</td>\n",
              "      <td>-1.889217</td>\n",
              "      <td>-1.281739</td>\n",
              "      <td>-1.741824</td>\n",
              "      <td>0.965484</td>\n",
              "      <td>0.0</td>\n",
              "      <td>0.0</td>\n",
              "      <td>-0.650094</td>\n",
              "      <td>-0.475832</td>\n",
              "      <td>-0.645961</td>\n",
              "      <td>1.239758</td>\n",
              "      <td>0.0</td>\n",
              "      <td>0.249667</td>\n",
              "      <td>-0.563380</td>\n",
              "    </tr>\n",
              "  </tbody>\n",
              "</table>\n",
              "<p>15139 rows × 16 columns</p>\n",
              "</div>"
            ],
            "text/plain": [
              "             id     price  bedrooms  ...  yr_renovated       lat      long\n",
              "0      0.843789 -1.198411 -0.344240  ...           0.0 -0.333380 -0.225868\n",
              "2      0.318285 -1.429073 -1.634840  ...           0.0  1.261033 -0.033003\n",
              "3     -0.784893  0.905069  0.946361  ...           0.0 -0.265862 -1.318764\n",
              "4     -0.971826  0.387594 -0.344240  ...           0.0  0.409320  1.477766\n",
              "6     -1.193915 -1.002431 -0.344240  ...           0.0 -1.750558 -0.788388\n",
              "...         ...       ...       ...  ...           ...       ...       ...\n",
              "21608 -1.565254 -0.438164 -0.344240  ...           0.0  0.989554 -0.941072\n",
              "21609  0.658105 -0.217962  0.946361  ...           0.0 -0.336897 -1.069648\n",
              "21610 -1.123078 -0.206395 -1.634840  ...           0.0  0.251777 -0.563380\n",
              "21611 -1.555322 -0.217962 -0.344240  ...           0.0 -0.169508  1.284901\n",
              "21612 -1.123078 -0.630840 -1.634840  ...           0.0  0.249667 -0.563380\n",
              "\n",
              "[15139 rows x 16 columns]"
            ]
          },
          "metadata": {},
          "execution_count": 46
        }
      ]
    },
    {
      "cell_type": "code",
      "metadata": {
        "colab": {
          "base_uri": "https://localhost:8080/"
        },
        "id": "gF_ZEOb6X1Wl",
        "outputId": "b42d948d-2be8-40fd-b0de-018c0fbfd6bd"
      },
      "source": [
        "y=df['price'].values\n",
        "X=df.iloc[:,2:].values\n",
        "X"
      ],
      "execution_count": null,
      "outputs": [
        {
          "output_type": "execute_result",
          "data": {
            "text/plain": [
              "array([[-0.34423961, -1.50378659, -1.02615479, ...,  0.        ,\n",
              "        -0.33338005, -0.22586753],\n",
              "       [-1.63483976, -1.50378659, -1.68109038, ...,  0.        ,\n",
              "         1.26103329, -0.03300341],\n",
              "       [ 0.94636055,  1.57965569,  0.21982025, ...,  0.        ,\n",
              "        -0.26586188, -1.31876419],\n",
              "       ...,\n",
              "       [-1.63483976, -1.88921687, -1.28173941, ...,  0.        ,\n",
              "         0.25177739, -0.56337973],\n",
              "       [-0.34423961,  0.80879512, -0.35524515, ...,  0.        ,\n",
              "        -0.16950783,  1.28490139],\n",
              "       [-1.63483976, -1.88921687, -1.28173941, ...,  0.        ,\n",
              "         0.24966744, -0.56337973]])"
            ]
          },
          "metadata": {},
          "execution_count": 47
        }
      ]
    },
    {
      "cell_type": "markdown",
      "metadata": {
        "id": "txJ-x3b6HoL2"
      },
      "source": [
        "lets create dataframes from our new  x and y values incase we need to use them. dx for independent variables and dy for the dependent variable"
      ]
    },
    {
      "cell_type": "code",
      "metadata": {
        "colab": {
          "base_uri": "https://localhost:8080/",
          "height": 108
        },
        "id": "ex4_e6i5ZIj-",
        "outputId": "5c32b927-8e04-4fb8-d976-9c58f2047bc5"
      },
      "source": [
        "dx=pd.DataFrame(X, columns=['bedrooms', 'bathrooms', 'sqft_living', 'sqft_lot','floors', 'waterfront', 'view','condition',\n",
        "                            'grade', 'sqft_basement','yr_built', 'yr_renovated', 'lat', 'long'])\n",
        "dx.head(2)"
      ],
      "execution_count": null,
      "outputs": [
        {
          "output_type": "execute_result",
          "data": {
            "text/html": [
              "<div>\n",
              "<style scoped>\n",
              "    .dataframe tbody tr th:only-of-type {\n",
              "        vertical-align: middle;\n",
              "    }\n",
              "\n",
              "    .dataframe tbody tr th {\n",
              "        vertical-align: top;\n",
              "    }\n",
              "\n",
              "    .dataframe thead th {\n",
              "        text-align: right;\n",
              "    }\n",
              "</style>\n",
              "<table border=\"1\" class=\"dataframe\">\n",
              "  <thead>\n",
              "    <tr style=\"text-align: right;\">\n",
              "      <th></th>\n",
              "      <th>bedrooms</th>\n",
              "      <th>bathrooms</th>\n",
              "      <th>sqft_living</th>\n",
              "      <th>sqft_lot</th>\n",
              "      <th>floors</th>\n",
              "      <th>waterfront</th>\n",
              "      <th>view</th>\n",
              "      <th>condition</th>\n",
              "      <th>grade</th>\n",
              "      <th>sqft_basement</th>\n",
              "      <th>yr_built</th>\n",
              "      <th>yr_renovated</th>\n",
              "      <th>lat</th>\n",
              "      <th>long</th>\n",
              "    </tr>\n",
              "  </thead>\n",
              "  <tbody>\n",
              "    <tr>\n",
              "      <th>0</th>\n",
              "      <td>-0.34424</td>\n",
              "      <td>-1.503787</td>\n",
              "      <td>-1.026155</td>\n",
              "      <td>-0.412704</td>\n",
              "      <td>-0.861459</td>\n",
              "      <td>0.0</td>\n",
              "      <td>0.0</td>\n",
              "      <td>-0.650094</td>\n",
              "      <td>-0.475832</td>\n",
              "      <td>-0.645961</td>\n",
              "      <td>-0.574926</td>\n",
              "      <td>0.0</td>\n",
              "      <td>-0.333380</td>\n",
              "      <td>-0.225868</td>\n",
              "    </tr>\n",
              "    <tr>\n",
              "      <th>1</th>\n",
              "      <td>-1.63484</td>\n",
              "      <td>-1.503787</td>\n",
              "      <td>-1.681090</td>\n",
              "      <td>0.851326</td>\n",
              "      <td>-0.861459</td>\n",
              "      <td>0.0</td>\n",
              "      <td>0.0</td>\n",
              "      <td>-0.650094</td>\n",
              "      <td>-1.712719</td>\n",
              "      <td>-0.645961</td>\n",
              "      <td>-1.328191</td>\n",
              "      <td>0.0</td>\n",
              "      <td>1.261033</td>\n",
              "      <td>-0.033003</td>\n",
              "    </tr>\n",
              "  </tbody>\n",
              "</table>\n",
              "</div>"
            ],
            "text/plain": [
              "   bedrooms  bathrooms  sqft_living  ...  yr_renovated       lat      long\n",
              "0  -0.34424  -1.503787    -1.026155  ...           0.0 -0.333380 -0.225868\n",
              "1  -1.63484  -1.503787    -1.681090  ...           0.0  1.261033 -0.033003\n",
              "\n",
              "[2 rows x 14 columns]"
            ]
          },
          "metadata": {},
          "execution_count": 48
        }
      ]
    },
    {
      "cell_type": "code",
      "metadata": {
        "colab": {
          "base_uri": "https://localhost:8080/",
          "height": 108
        },
        "id": "5wNd8v_sH70N",
        "outputId": "27721607-02e3-440b-872b-14eabdcfe838"
      },
      "source": [
        "dy=pd.DataFrame(y, columns=['price'])\n",
        "dy.head(2)"
      ],
      "execution_count": null,
      "outputs": [
        {
          "output_type": "execute_result",
          "data": {
            "text/html": [
              "<div>\n",
              "<style scoped>\n",
              "    .dataframe tbody tr th:only-of-type {\n",
              "        vertical-align: middle;\n",
              "    }\n",
              "\n",
              "    .dataframe tbody tr th {\n",
              "        vertical-align: top;\n",
              "    }\n",
              "\n",
              "    .dataframe thead th {\n",
              "        text-align: right;\n",
              "    }\n",
              "</style>\n",
              "<table border=\"1\" class=\"dataframe\">\n",
              "  <thead>\n",
              "    <tr style=\"text-align: right;\">\n",
              "      <th></th>\n",
              "      <th>price</th>\n",
              "    </tr>\n",
              "  </thead>\n",
              "  <tbody>\n",
              "    <tr>\n",
              "      <th>0</th>\n",
              "      <td>-1.198411</td>\n",
              "    </tr>\n",
              "    <tr>\n",
              "      <th>1</th>\n",
              "      <td>-1.429073</td>\n",
              "    </tr>\n",
              "  </tbody>\n",
              "</table>\n",
              "</div>"
            ],
            "text/plain": [
              "      price\n",
              "0 -1.198411\n",
              "1 -1.429073"
            ]
          },
          "metadata": {},
          "execution_count": 49
        }
      ]
    },
    {
      "cell_type": "markdown",
      "metadata": {
        "id": "nkdHpdYxTWn2"
      },
      "source": [
        "lets check for multicollinearity"
      ]
    },
    {
      "cell_type": "code",
      "metadata": {
        "colab": {
          "base_uri": "https://localhost:8080/",
          "height": 471
        },
        "id": "rlGbhpqJTWNP",
        "outputId": "30472c06-9273-44e7-c8a0-0ae73fba15f6"
      },
      "source": [
        "corr=dx.corr()\n",
        "pd.DataFrame(np.linalg.inv(corr.values), index = corr.index, columns=corr.columns)"
      ],
      "execution_count": null,
      "outputs": [
        {
          "output_type": "execute_result",
          "data": {
            "text/html": [
              "<div>\n",
              "<style scoped>\n",
              "    .dataframe tbody tr th:only-of-type {\n",
              "        vertical-align: middle;\n",
              "    }\n",
              "\n",
              "    .dataframe tbody tr th {\n",
              "        vertical-align: top;\n",
              "    }\n",
              "\n",
              "    .dataframe thead th {\n",
              "        text-align: right;\n",
              "    }\n",
              "</style>\n",
              "<table border=\"1\" class=\"dataframe\">\n",
              "  <thead>\n",
              "    <tr style=\"text-align: right;\">\n",
              "      <th></th>\n",
              "      <th>bedrooms</th>\n",
              "      <th>bathrooms</th>\n",
              "      <th>sqft_living</th>\n",
              "      <th>sqft_lot</th>\n",
              "      <th>floors</th>\n",
              "      <th>waterfront</th>\n",
              "      <th>view</th>\n",
              "      <th>condition</th>\n",
              "      <th>grade</th>\n",
              "      <th>sqft_basement</th>\n",
              "      <th>yr_built</th>\n",
              "      <th>yr_renovated</th>\n",
              "      <th>lat</th>\n",
              "      <th>long</th>\n",
              "    </tr>\n",
              "  </thead>\n",
              "  <tbody>\n",
              "    <tr>\n",
              "      <th>bedrooms</th>\n",
              "      <td>NaN</td>\n",
              "      <td>NaN</td>\n",
              "      <td>NaN</td>\n",
              "      <td>NaN</td>\n",
              "      <td>NaN</td>\n",
              "      <td>NaN</td>\n",
              "      <td>NaN</td>\n",
              "      <td>NaN</td>\n",
              "      <td>NaN</td>\n",
              "      <td>NaN</td>\n",
              "      <td>NaN</td>\n",
              "      <td>NaN</td>\n",
              "      <td>NaN</td>\n",
              "      <td>NaN</td>\n",
              "    </tr>\n",
              "    <tr>\n",
              "      <th>bathrooms</th>\n",
              "      <td>NaN</td>\n",
              "      <td>NaN</td>\n",
              "      <td>NaN</td>\n",
              "      <td>NaN</td>\n",
              "      <td>NaN</td>\n",
              "      <td>NaN</td>\n",
              "      <td>NaN</td>\n",
              "      <td>NaN</td>\n",
              "      <td>NaN</td>\n",
              "      <td>NaN</td>\n",
              "      <td>NaN</td>\n",
              "      <td>NaN</td>\n",
              "      <td>NaN</td>\n",
              "      <td>NaN</td>\n",
              "    </tr>\n",
              "    <tr>\n",
              "      <th>sqft_living</th>\n",
              "      <td>NaN</td>\n",
              "      <td>NaN</td>\n",
              "      <td>NaN</td>\n",
              "      <td>NaN</td>\n",
              "      <td>NaN</td>\n",
              "      <td>NaN</td>\n",
              "      <td>NaN</td>\n",
              "      <td>NaN</td>\n",
              "      <td>NaN</td>\n",
              "      <td>NaN</td>\n",
              "      <td>NaN</td>\n",
              "      <td>NaN</td>\n",
              "      <td>NaN</td>\n",
              "      <td>NaN</td>\n",
              "    </tr>\n",
              "    <tr>\n",
              "      <th>sqft_lot</th>\n",
              "      <td>NaN</td>\n",
              "      <td>NaN</td>\n",
              "      <td>NaN</td>\n",
              "      <td>NaN</td>\n",
              "      <td>NaN</td>\n",
              "      <td>NaN</td>\n",
              "      <td>NaN</td>\n",
              "      <td>NaN</td>\n",
              "      <td>NaN</td>\n",
              "      <td>NaN</td>\n",
              "      <td>NaN</td>\n",
              "      <td>NaN</td>\n",
              "      <td>NaN</td>\n",
              "      <td>NaN</td>\n",
              "    </tr>\n",
              "    <tr>\n",
              "      <th>floors</th>\n",
              "      <td>NaN</td>\n",
              "      <td>NaN</td>\n",
              "      <td>NaN</td>\n",
              "      <td>NaN</td>\n",
              "      <td>NaN</td>\n",
              "      <td>NaN</td>\n",
              "      <td>NaN</td>\n",
              "      <td>NaN</td>\n",
              "      <td>NaN</td>\n",
              "      <td>NaN</td>\n",
              "      <td>NaN</td>\n",
              "      <td>NaN</td>\n",
              "      <td>NaN</td>\n",
              "      <td>NaN</td>\n",
              "    </tr>\n",
              "    <tr>\n",
              "      <th>waterfront</th>\n",
              "      <td>NaN</td>\n",
              "      <td>NaN</td>\n",
              "      <td>NaN</td>\n",
              "      <td>NaN</td>\n",
              "      <td>NaN</td>\n",
              "      <td>NaN</td>\n",
              "      <td>NaN</td>\n",
              "      <td>NaN</td>\n",
              "      <td>NaN</td>\n",
              "      <td>NaN</td>\n",
              "      <td>NaN</td>\n",
              "      <td>NaN</td>\n",
              "      <td>NaN</td>\n",
              "      <td>NaN</td>\n",
              "    </tr>\n",
              "    <tr>\n",
              "      <th>view</th>\n",
              "      <td>NaN</td>\n",
              "      <td>NaN</td>\n",
              "      <td>NaN</td>\n",
              "      <td>NaN</td>\n",
              "      <td>NaN</td>\n",
              "      <td>NaN</td>\n",
              "      <td>NaN</td>\n",
              "      <td>NaN</td>\n",
              "      <td>NaN</td>\n",
              "      <td>NaN</td>\n",
              "      <td>NaN</td>\n",
              "      <td>NaN</td>\n",
              "      <td>NaN</td>\n",
              "      <td>NaN</td>\n",
              "    </tr>\n",
              "    <tr>\n",
              "      <th>condition</th>\n",
              "      <td>NaN</td>\n",
              "      <td>NaN</td>\n",
              "      <td>NaN</td>\n",
              "      <td>NaN</td>\n",
              "      <td>NaN</td>\n",
              "      <td>NaN</td>\n",
              "      <td>NaN</td>\n",
              "      <td>NaN</td>\n",
              "      <td>NaN</td>\n",
              "      <td>NaN</td>\n",
              "      <td>NaN</td>\n",
              "      <td>NaN</td>\n",
              "      <td>NaN</td>\n",
              "      <td>NaN</td>\n",
              "    </tr>\n",
              "    <tr>\n",
              "      <th>grade</th>\n",
              "      <td>NaN</td>\n",
              "      <td>NaN</td>\n",
              "      <td>NaN</td>\n",
              "      <td>NaN</td>\n",
              "      <td>NaN</td>\n",
              "      <td>NaN</td>\n",
              "      <td>NaN</td>\n",
              "      <td>NaN</td>\n",
              "      <td>NaN</td>\n",
              "      <td>NaN</td>\n",
              "      <td>NaN</td>\n",
              "      <td>NaN</td>\n",
              "      <td>NaN</td>\n",
              "      <td>NaN</td>\n",
              "    </tr>\n",
              "    <tr>\n",
              "      <th>sqft_basement</th>\n",
              "      <td>NaN</td>\n",
              "      <td>NaN</td>\n",
              "      <td>NaN</td>\n",
              "      <td>NaN</td>\n",
              "      <td>NaN</td>\n",
              "      <td>NaN</td>\n",
              "      <td>NaN</td>\n",
              "      <td>NaN</td>\n",
              "      <td>NaN</td>\n",
              "      <td>NaN</td>\n",
              "      <td>NaN</td>\n",
              "      <td>NaN</td>\n",
              "      <td>NaN</td>\n",
              "      <td>NaN</td>\n",
              "    </tr>\n",
              "    <tr>\n",
              "      <th>yr_built</th>\n",
              "      <td>NaN</td>\n",
              "      <td>NaN</td>\n",
              "      <td>NaN</td>\n",
              "      <td>NaN</td>\n",
              "      <td>NaN</td>\n",
              "      <td>NaN</td>\n",
              "      <td>NaN</td>\n",
              "      <td>NaN</td>\n",
              "      <td>NaN</td>\n",
              "      <td>NaN</td>\n",
              "      <td>NaN</td>\n",
              "      <td>NaN</td>\n",
              "      <td>NaN</td>\n",
              "      <td>NaN</td>\n",
              "    </tr>\n",
              "    <tr>\n",
              "      <th>yr_renovated</th>\n",
              "      <td>NaN</td>\n",
              "      <td>NaN</td>\n",
              "      <td>NaN</td>\n",
              "      <td>NaN</td>\n",
              "      <td>NaN</td>\n",
              "      <td>NaN</td>\n",
              "      <td>NaN</td>\n",
              "      <td>NaN</td>\n",
              "      <td>NaN</td>\n",
              "      <td>NaN</td>\n",
              "      <td>NaN</td>\n",
              "      <td>NaN</td>\n",
              "      <td>NaN</td>\n",
              "      <td>NaN</td>\n",
              "    </tr>\n",
              "    <tr>\n",
              "      <th>lat</th>\n",
              "      <td>NaN</td>\n",
              "      <td>NaN</td>\n",
              "      <td>NaN</td>\n",
              "      <td>NaN</td>\n",
              "      <td>NaN</td>\n",
              "      <td>NaN</td>\n",
              "      <td>NaN</td>\n",
              "      <td>NaN</td>\n",
              "      <td>NaN</td>\n",
              "      <td>NaN</td>\n",
              "      <td>NaN</td>\n",
              "      <td>NaN</td>\n",
              "      <td>NaN</td>\n",
              "      <td>NaN</td>\n",
              "    </tr>\n",
              "    <tr>\n",
              "      <th>long</th>\n",
              "      <td>NaN</td>\n",
              "      <td>NaN</td>\n",
              "      <td>NaN</td>\n",
              "      <td>NaN</td>\n",
              "      <td>NaN</td>\n",
              "      <td>NaN</td>\n",
              "      <td>NaN</td>\n",
              "      <td>NaN</td>\n",
              "      <td>NaN</td>\n",
              "      <td>NaN</td>\n",
              "      <td>NaN</td>\n",
              "      <td>NaN</td>\n",
              "      <td>NaN</td>\n",
              "      <td>NaN</td>\n",
              "    </tr>\n",
              "  </tbody>\n",
              "</table>\n",
              "</div>"
            ],
            "text/plain": [
              "               bedrooms  bathrooms  sqft_living  ...  yr_renovated  lat  long\n",
              "bedrooms            NaN        NaN          NaN  ...           NaN  NaN   NaN\n",
              "bathrooms           NaN        NaN          NaN  ...           NaN  NaN   NaN\n",
              "sqft_living         NaN        NaN          NaN  ...           NaN  NaN   NaN\n",
              "sqft_lot            NaN        NaN          NaN  ...           NaN  NaN   NaN\n",
              "floors              NaN        NaN          NaN  ...           NaN  NaN   NaN\n",
              "waterfront          NaN        NaN          NaN  ...           NaN  NaN   NaN\n",
              "view                NaN        NaN          NaN  ...           NaN  NaN   NaN\n",
              "condition           NaN        NaN          NaN  ...           NaN  NaN   NaN\n",
              "grade               NaN        NaN          NaN  ...           NaN  NaN   NaN\n",
              "sqft_basement       NaN        NaN          NaN  ...           NaN  NaN   NaN\n",
              "yr_built            NaN        NaN          NaN  ...           NaN  NaN   NaN\n",
              "yr_renovated        NaN        NaN          NaN  ...           NaN  NaN   NaN\n",
              "lat                 NaN        NaN          NaN  ...           NaN  NaN   NaN\n",
              "long                NaN        NaN          NaN  ...           NaN  NaN   NaN\n",
              "\n",
              "[14 rows x 14 columns]"
            ]
          },
          "metadata": {},
          "execution_count": 50
        }
      ]
    },
    {
      "cell_type": "markdown",
      "metadata": {
        "id": "3c7M2LCuUW14"
      },
      "source": [
        "The Nan values show that there is no correlation between our independent variables so we shal proceed with all of them as X"
      ]
    },
    {
      "cell_type": "markdown",
      "metadata": {
        "id": "o6W8etERJkef"
      },
      "source": [
        "function we shall use for prediction"
      ]
    },
    {
      "cell_type": "code",
      "metadata": {
        "id": "EGcwDe6PJEPe"
      },
      "source": [
        "def myfunc(X):\n",
        "  return slope*X + intercept"
      ],
      "execution_count": null,
      "outputs": []
    },
    {
      "cell_type": "markdown",
      "metadata": {
        "id": "gklgHTP2Xfmp"
      },
      "source": [
        "###MULTIPLE LINEAR REGRESSION"
      ]
    },
    {
      "cell_type": "code",
      "metadata": {
        "colab": {
          "base_uri": "https://localhost:8080/"
        },
        "id": "Cb-ziQ_PJ5GS",
        "outputId": "a8f01193-c87d-4053-bc56-1c33acb334b7"
      },
      "source": [
        "# Split data into training sets and testing sets\n",
        "X_train, X_test, y_train, y_test = train_test_split(X, y, test_size=0.25, random_state = 0)\n",
        "X_train\n",
        "\n",
        "linear = LinearRegression()\n",
        "linear.fit(X_train, y_train)"
      ],
      "execution_count": null,
      "outputs": [
        {
          "output_type": "execute_result",
          "data": {
            "text/plain": [
              "LinearRegression(copy_X=True, fit_intercept=True, n_jobs=None, normalize=False)"
            ]
          },
          "metadata": {},
          "execution_count": 52
        }
      ]
    },
    {
      "cell_type": "code",
      "metadata": {
        "colab": {
          "base_uri": "https://localhost:8080/",
          "height": 408
        },
        "id": "YMW53_udW9B5",
        "outputId": "9f59799c-e91b-4498-ceef-a8fc142c0b74"
      },
      "source": [
        "y_pred = linear.predict(X_test)\n",
        "\n",
        "pred_df = pd.DataFrame({'OG' : y_test, 'Predictions' : y_pred})\n",
        "pred_df"
      ],
      "execution_count": null,
      "outputs": [
        {
          "output_type": "execute_result",
          "data": {
            "text/html": [
              "<div>\n",
              "<style scoped>\n",
              "    .dataframe tbody tr th:only-of-type {\n",
              "        vertical-align: middle;\n",
              "    }\n",
              "\n",
              "    .dataframe tbody tr th {\n",
              "        vertical-align: top;\n",
              "    }\n",
              "\n",
              "    .dataframe thead th {\n",
              "        text-align: right;\n",
              "    }\n",
              "</style>\n",
              "<table border=\"1\" class=\"dataframe\">\n",
              "  <thead>\n",
              "    <tr style=\"text-align: right;\">\n",
              "      <th></th>\n",
              "      <th>OG</th>\n",
              "      <th>Predictions</th>\n",
              "    </tr>\n",
              "  </thead>\n",
              "  <tbody>\n",
              "    <tr>\n",
              "      <th>0</th>\n",
              "      <td>-0.768467</td>\n",
              "      <td>-0.180169</td>\n",
              "    </tr>\n",
              "    <tr>\n",
              "      <th>1</th>\n",
              "      <td>-1.029957</td>\n",
              "      <td>-0.129280</td>\n",
              "    </tr>\n",
              "    <tr>\n",
              "      <th>2</th>\n",
              "      <td>-0.845537</td>\n",
              "      <td>-0.593289</td>\n",
              "    </tr>\n",
              "    <tr>\n",
              "      <th>3</th>\n",
              "      <td>1.791383</td>\n",
              "      <td>0.396409</td>\n",
              "    </tr>\n",
              "    <tr>\n",
              "      <th>4</th>\n",
              "      <td>-0.438164</td>\n",
              "      <td>-0.042741</td>\n",
              "    </tr>\n",
              "    <tr>\n",
              "      <th>...</th>\n",
              "      <td>...</td>\n",
              "      <td>...</td>\n",
              "    </tr>\n",
              "    <tr>\n",
              "      <th>3780</th>\n",
              "      <td>0.706887</td>\n",
              "      <td>1.029858</td>\n",
              "    </tr>\n",
              "    <tr>\n",
              "      <th>3781</th>\n",
              "      <td>-1.318972</td>\n",
              "      <td>-1.452147</td>\n",
              "    </tr>\n",
              "    <tr>\n",
              "      <th>3782</th>\n",
              "      <td>2.259312</td>\n",
              "      <td>1.420552</td>\n",
              "    </tr>\n",
              "    <tr>\n",
              "      <th>3783</th>\n",
              "      <td>-0.217962</td>\n",
              "      <td>0.660949</td>\n",
              "    </tr>\n",
              "    <tr>\n",
              "      <th>3784</th>\n",
              "      <td>-0.787734</td>\n",
              "      <td>-0.072588</td>\n",
              "    </tr>\n",
              "  </tbody>\n",
              "</table>\n",
              "<p>3785 rows × 2 columns</p>\n",
              "</div>"
            ],
            "text/plain": [
              "            OG  Predictions\n",
              "0    -0.768467    -0.180169\n",
              "1    -1.029957    -0.129280\n",
              "2    -0.845537    -0.593289\n",
              "3     1.791383     0.396409\n",
              "4    -0.438164    -0.042741\n",
              "...        ...          ...\n",
              "3780  0.706887     1.029858\n",
              "3781 -1.318972    -1.452147\n",
              "3782  2.259312     1.420552\n",
              "3783 -0.217962     0.660949\n",
              "3784 -0.787734    -0.072588\n",
              "\n",
              "[3785 rows x 2 columns]"
            ]
          },
          "metadata": {},
          "execution_count": 53
        }
      ]
    },
    {
      "cell_type": "code",
      "metadata": {
        "colab": {
          "base_uri": "https://localhost:8080/"
        },
        "id": "APQ4-SBpXk9C",
        "outputId": "eb3e1aac-a10a-422e-ffa7-d29621ceece5"
      },
      "source": [
        "# Coefficients\n",
        "linear.coef_\n",
        "\n",
        "coef_dict = {}\n",
        "\n",
        "for coef, features in zip(linear.coef_, dx.columns):\n",
        "  coef_dict[features] = coef\n",
        "\n",
        "coef_dict"
      ],
      "execution_count": null,
      "outputs": [
        {
          "output_type": "execute_result",
          "data": {
            "text/plain": [
              "{'bathrooms': 0.06810327746858097,\n",
              " 'bedrooms': -0.0371763257146167,\n",
              " 'condition': 0.09770404960930848,\n",
              " 'floors': 0.04140079990178189,\n",
              " 'grade': 0.383936042827612,\n",
              " 'lat': 0.41111203355877657,\n",
              " 'long': 0.04864091402881415,\n",
              " 'sqft_basement': -0.027667474199785186,\n",
              " 'sqft_living': 0.38470324133086936,\n",
              " 'sqft_lot': -0.10211616483041032,\n",
              " 'view': 1.6653345369377348e-16,\n",
              " 'waterfront': 4.683753385137379e-17,\n",
              " 'yr_built': -0.3153667202546188,\n",
              " 'yr_renovated': 0.0}"
            ]
          },
          "metadata": {},
          "execution_count": 54
        }
      ]
    },
    {
      "cell_type": "code",
      "metadata": {
        "colab": {
          "base_uri": "https://localhost:8080/"
        },
        "id": "s3SE0IotXkzd",
        "outputId": "0970f08f-2e49-4a9a-fde0-ce7a548a661c"
      },
      "source": [
        "print('The R2 score for  Linear Regressor (train) is : ', linear.score(X_train, y_train))\n",
        "print('The R2 score for  Linear Regressor (test) is : ', linear.score(X_test, y_test))\n",
        "print('The RMSE for Linear Regressor is : ', np.sqrt(metrics.mean_squared_error(y_test, y_pred)))"
      ],
      "execution_count": null,
      "outputs": [
        {
          "output_type": "stream",
          "name": "stdout",
          "text": [
            "The R2 score for  Linear Regressor (train) is :  0.6441412173932848\n",
            "The R2 score for  Linear Regressor (test) is :  0.6423954141853676\n",
            "The RMSE for Linear Regressor is :  0.597402308193605\n"
          ]
        }
      ]
    },
    {
      "cell_type": "markdown",
      "metadata": {
        "id": "7CuPxikfX-At"
      },
      "source": [
        "Our model is working well. We can use this model to predict future values"
      ]
    },
    {
      "cell_type": "code",
      "metadata": {
        "colab": {
          "base_uri": "https://localhost:8080/"
        },
        "id": "bJXZSuN-Xktz",
        "outputId": "d5bdbb49-3c16-47cd-b343-cbef25bbe4eb"
      },
      "source": [
        "residuals = np.subtract(y_pred, y_test)\n",
        "residuals.mean()"
      ],
      "execution_count": null,
      "outputs": [
        {
          "output_type": "execute_result",
          "data": {
            "text/plain": [
              "-0.005682529102147319"
            ]
          },
          "metadata": {},
          "execution_count": 56
        }
      ]
    },
    {
      "cell_type": "code",
      "metadata": {
        "colab": {
          "base_uri": "https://localhost:8080/",
          "height": 278
        },
        "id": "IaiFe1zDXknS",
        "outputId": "dd8bb10b-40b5-46b5-cd18-8109dc9fc399"
      },
      "source": [
        "\n",
        "# plotting the residuals\n",
        "\n",
        "plt.scatter(y_pred, residuals, color = 'blue')\n",
        "plt.figsize = [12, 10]\n",
        "plt.ylabel('residual')\n",
        "plt.xlabel('fitted values')\n",
        "plt.axhline(y = residuals.mean(), color = 'red', linewidth = 1)\n",
        "plt.show()"
      ],
      "execution_count": null,
      "outputs": [
        {
          "output_type": "display_data",
          "data": {
            "image/png": "[encoded data removed]",
            "text/plain": [
              "<Figure size 432x288 with 1 Axes>"
            ]
          },
          "metadata": {
            "needs_background": "light"
          }
        }
      ]
    },
    {
      "cell_type": "code",
      "metadata": {
        "colab": {
          "base_uri": "https://localhost:8080/"
        },
        "id": "zMTGIAiaefHi",
        "outputId": "108e9751-c171-4269-ca3a-e92225bc39b9"
      },
      "source": [
        "import scipy.stats as stats\n",
        "test_result, p_value = stats.bartlett(y_pred, residuals)\n",
        "print(\"Test result:\", test_result)\n",
        "print(\"P-value:\", p_value)"
      ],
      "execution_count": null,
      "outputs": [
        {
          "output_type": "stream",
          "name": "stdout",
          "text": [
            "Test result: 350.00873520762605\n",
            "P-value: 4.219270706763473e-78\n"
          ]
        }
      ]
    },
    {
      "cell_type": "code",
      "metadata": {
        "colab": {
          "base_uri": "https://localhost:8080/"
        },
        "id": "bbaFQKBwV4G7",
        "outputId": "bbb0b907-2186-44c8-e871-7a3c59f4c49a"
      },
      "source": [
        "test_result, p_value = stats.bartlett(y_pred, residuals)\n",
        "\n",
        "# compute critical value for the chi squared distribution\n",
        "degree_of_freedom = len(y_pred)-1\n",
        "probability = 1 - p_value\n",
        "\n",
        "critical_value = stats.chi2.ppf(probability, degree_of_freedom)\n",
        "\n",
        "print(critical_value)\n",
        "print(\"Degree of Freedom:\", degree_of_freedom)\n",
        "print(\"Probability:\", probability)\n",
        "\n",
        "if (test_result > critical_value):\n",
        "  print('the variances are unequal, the model should be reassessed')\n",
        "else:\n",
        "  print('the variances are homogeneous.')                                      "
      ],
      "execution_count": null,
      "outputs": [
        {
          "output_type": "stream",
          "name": "stdout",
          "text": [
            "inf\n",
            "Degree of Freedom: 3784\n",
            "Probability: 1.0\n",
            "the variances are homogeneous.\n"
          ]
        }
      ]
    },
    {
      "cell_type": "markdown",
      "metadata": {
        "id": "rNSXXMK2gGmc"
      },
      "source": [
        "### RIDGE REGRESSION"
      ]
    },
    {
      "cell_type": "markdown",
      "metadata": {
        "id": "qGIl3fjDi_M3"
      },
      "source": [
        "My data had zero collinearity"
      ]
    },
    {
      "cell_type": "code",
      "metadata": {
        "colab": {
          "base_uri": "https://localhost:8080/"
        },
        "id": "V4vJjj18pl85",
        "outputId": "daa0b202-84dd-45a9-f706-d4d7af913beb"
      },
      "source": [
        "from sklearn.model_selection import cross_val_score\n",
        "from numpy import mean\n",
        "from numpy import std\n",
        "from numpy import absolute\n",
        "from sklearn.model_selection import RepeatedKFold\n",
        "from numpy import arange\n",
        "\n",
        "model= Ridge(alpha=1.0)\n",
        "cv= RepeatedKFold(n_splits=10, n_repeats=3, random_state=1)\n",
        "# evaluate the model\n",
        "scores=cross_val_score(model, X, y, scoring='neg_mean_absolute_error', cv=cv, n_jobs=-1)\n",
        "# forcing scores to be positive\n",
        "scores= absolute(scores)\n",
        "print('Mean MAE: %.3f (%.3f)' % (mean(scores), std(scores)))"
      ],
      "execution_count": null,
      "outputs": [
        {
          "output_type": "stream",
          "name": "stdout",
          "text": [
            "Mean MAE: 0.447 (0.007)\n"
          ]
        }
      ]
    },
    {
      "cell_type": "code",
      "metadata": {
        "colab": {
          "base_uri": "https://localhost:8080/"
        },
        "id": "DWkNsPJNfJTQ",
        "outputId": "4aa35ca8-6221-47e7-9dd2-3b35f668d312"
      },
      "source": [
        "\n",
        "# fit model\n",
        "model.fit(X,y)\n",
        "cv=RepeatedKFold(n_splits=100, n_repeats=3, random_state=1)\n",
        "# define grid\n",
        "grid=dict()\n",
        "grid['alpha']=arange(0, 1, 0.01)\n",
        "# define search\n",
        "search=GridSearchCV(model, grid, scoring='neg_mean_absolute_error', cv=cv, n_jobs=1)\n",
        "# perform search\n",
        "results=search.fit(X,y)\n",
        "# summarize\n",
        "print('MAE: %.3f' % results.best_score_)\n",
        "print('Config: %s' % results.best_params_)"
      ],
      "execution_count": null,
      "outputs": [
        {
          "output_type": "stream",
          "name": "stdout",
          "text": [
            "MAE: -0.447\n",
            "Config: {'alpha': 0.99}\n"
          ]
        }
      ]
    },
    {
      "cell_type": "code",
      "metadata": {
        "colab": {
          "base_uri": "https://localhost:8080/"
        },
        "id": "3vzkBeVpfJNa",
        "outputId": "4d4d96bf-e622-4acf-f97f-69270cecf9c4"
      },
      "source": [
        "ridge = Ridge(normalize=True)\n",
        "\n",
        "grid_ridge =  GridSearchCV(estimator=ridge, param_grid={'alpha' : np.arange(0.1, 2, 5)}, cv=10, n_jobs=1, refit=True)\n",
        "\n",
        "grid_ridge.fit(X_train, y_train)\n",
        "grid_ridge.best_params_\n"
      ],
      "execution_count": null,
      "outputs": [
        {
          "output_type": "execute_result",
          "data": {
            "text/plain": [
              "{'alpha': 0.1}"
            ]
          },
          "metadata": {},
          "execution_count": 62
        }
      ]
    },
    {
      "cell_type": "code",
      "metadata": {
        "colab": {
          "base_uri": "https://localhost:8080/"
        },
        "id": "UAj0eFsnfI2U",
        "outputId": "0a940aca-e90d-452b-c359-ff7bba8c31fa"
      },
      "source": [
        "ridge = Ridge(alpha=0.1, normalize=True)\n",
        "ridge.fit(X_train, y_train)"
      ],
      "execution_count": null,
      "outputs": [
        {
          "output_type": "execute_result",
          "data": {
            "text/plain": [
              "Ridge(alpha=0.1, copy_X=True, fit_intercept=True, max_iter=None, normalize=True,\n",
              "      random_state=None, solver='auto', tol=0.001)"
            ]
          },
          "metadata": {},
          "execution_count": 63
        }
      ]
    },
    {
      "cell_type": "code",
      "metadata": {
        "colab": {
          "base_uri": "https://localhost:8080/"
        },
        "id": "oW3Gf1wcfIyJ",
        "outputId": "fdeaee3d-42be-4730-efe1-d564062f0c15"
      },
      "source": [
        "y_pred_r = ridge.predict(X_test)\n",
        "\n",
        "pred_df_r = pd.DataFrame({'OG' : y_test, 'Predictions' : y_pred_r})\n",
        "pred_df_r"
      ],
      "execution_count": null,
      "outputs": [
        {
          "output_type": "execute_result",
          "data": {
            "text/html": [
              "<div>\n",
              "<style scoped>\n",
              "    .dataframe tbody tr th:only-of-type {\n",
              "        vertical-align: middle;\n",
              "    }\n",
              "\n",
              "    .dataframe tbody tr th {\n",
              "        vertical-align: top;\n",
              "    }\n",
              "\n",
              "    .dataframe thead th {\n",
              "        text-align: right;\n",
              "    }\n",
              "</style>\n",
              "<table border=\"1\" class=\"dataframe\">\n",
              "  <thead>\n",
              "    <tr style=\"text-align: right;\">\n",
              "      <th></th>\n",
              "      <th>OG</th>\n",
              "      <th>Predictions</th>\n",
              "    </tr>\n",
              "  </thead>\n",
              "  <tbody>\n",
              "    <tr>\n",
              "      <th>0</th>\n",
              "      <td>-0.768467</td>\n",
              "      <td>-0.172723</td>\n",
              "    </tr>\n",
              "    <tr>\n",
              "      <th>1</th>\n",
              "      <td>-1.029957</td>\n",
              "      <td>-0.137720</td>\n",
              "    </tr>\n",
              "    <tr>\n",
              "      <th>2</th>\n",
              "      <td>-0.845537</td>\n",
              "      <td>-0.540749</td>\n",
              "    </tr>\n",
              "    <tr>\n",
              "      <th>3</th>\n",
              "      <td>1.791383</td>\n",
              "      <td>0.340664</td>\n",
              "    </tr>\n",
              "    <tr>\n",
              "      <th>4</th>\n",
              "      <td>-0.438164</td>\n",
              "      <td>-0.056044</td>\n",
              "    </tr>\n",
              "    <tr>\n",
              "      <th>...</th>\n",
              "      <td>...</td>\n",
              "      <td>...</td>\n",
              "    </tr>\n",
              "    <tr>\n",
              "      <th>3780</th>\n",
              "      <td>0.706887</td>\n",
              "      <td>0.873749</td>\n",
              "    </tr>\n",
              "    <tr>\n",
              "      <th>3781</th>\n",
              "      <td>-1.318972</td>\n",
              "      <td>-1.343387</td>\n",
              "    </tr>\n",
              "    <tr>\n",
              "      <th>3782</th>\n",
              "      <td>2.259312</td>\n",
              "      <td>1.276736</td>\n",
              "    </tr>\n",
              "    <tr>\n",
              "      <th>3783</th>\n",
              "      <td>-0.217962</td>\n",
              "      <td>0.677920</td>\n",
              "    </tr>\n",
              "    <tr>\n",
              "      <th>3784</th>\n",
              "      <td>-0.787734</td>\n",
              "      <td>-0.054309</td>\n",
              "    </tr>\n",
              "  </tbody>\n",
              "</table>\n",
              "<p>3785 rows × 2 columns</p>\n",
              "</div>"
            ],
            "text/plain": [
              "            OG  Predictions\n",
              "0    -0.768467    -0.172723\n",
              "1    -1.029957    -0.137720\n",
              "2    -0.845537    -0.540749\n",
              "3     1.791383     0.340664\n",
              "4    -0.438164    -0.056044\n",
              "...        ...          ...\n",
              "3780  0.706887     0.873749\n",
              "3781 -1.318972    -1.343387\n",
              "3782  2.259312     1.276736\n",
              "3783 -0.217962     0.677920\n",
              "3784 -0.787734    -0.054309\n",
              "\n",
              "[3785 rows x 2 columns]"
            ]
          },
          "metadata": {},
          "execution_count": 64
        }
      ]
    },
    {
      "cell_type": "code",
      "metadata": {
        "colab": {
          "base_uri": "https://localhost:8080/"
        },
        "id": "HEZL-ovEfIuC",
        "outputId": "d59a674c-01cd-4964-ed3e-8986b58d7b73"
      },
      "source": [
        "#Coefficients\n",
        "coef_dict_r = {}\n",
        "\n",
        "for coef, features in zip(ridge.coef_, dx.columns):\n",
        "  coef_dict_r[features] = coef\n",
        "\n",
        "coef_dict_r"
      ],
      "execution_count": null,
      "outputs": [
        {
          "output_type": "execute_result",
          "data": {
            "text/plain": [
              "{'bathrooms': 0.06567479378557312,\n",
              " 'bedrooms': -0.010251320295842388,\n",
              " 'condition': 0.0951432105797497,\n",
              " 'floors': 0.055491028178223004,\n",
              " 'grade': 0.34687407958022654,\n",
              " 'lat': 0.38418467407443263,\n",
              " 'long': 0.035857474050580436,\n",
              " 'sqft_basement': 0.001593852705772062,\n",
              " 'sqft_living': 0.3244708399193791,\n",
              " 'sqft_lot': -0.08139590931450115,\n",
              " 'view': 0.0,\n",
              " 'waterfront': 0.0,\n",
              " 'yr_built': -0.2532700088243251,\n",
              " 'yr_renovated': 0.0}"
            ]
          },
          "metadata": {},
          "execution_count": 65
        }
      ]
    },
    {
      "cell_type": "markdown",
      "metadata": {
        "id": "WkSwv28azIJN"
      },
      "source": [
        "convert our dictionary to dataframe so we can plot"
      ]
    },
    {
      "cell_type": "code",
      "metadata": {
        "id": "FmLs9vBMyOfc"
      },
      "source": [
        "c=pd.DataFrame.from_dict(coef_dict_r, orient='index')"
      ],
      "execution_count": null,
      "outputs": []
    },
    {
      "cell_type": "code",
      "metadata": {
        "colab": {
          "base_uri": "https://localhost:8080/"
        },
        "id": "4SgMT4vAxydr",
        "outputId": "f1861707-bbad-4af4-e470-8605f8befde6"
      },
      "source": [
        "#plotting coefficients\n",
        "c.plot(kind='barh', figsize=(10, 8))\n",
        "plt.title('Ridge Regression Model Coefficients')\n",
        "plt.axvline(x=0, color='.5')\n",
        "plt.show()"
      ],
      "execution_count": null,
      "outputs": [
        {
          "output_type": "display_data",
          "data": {
            "image/png": "[encoded data removed]",
            "text/plain": [
              "<Figure size 720x576 with 1 Axes>"
            ]
          },
          "metadata": {
            "needs_background": "light"
          }
        }
      ]
    },
    {
      "cell_type": "code",
      "metadata": {
        "colab": {
          "base_uri": "https://localhost:8080/"
        },
        "id": "tvPzzvactGCT",
        "outputId": "8d540570-3276-47a7-c056-96c711825f8d"
      },
      "source": [
        "# R2 & RMSE\n",
        "\n",
        "print('The R2 score for  Ridge Regressor (train) is : ', ridge.score(X_train, y_train))\n",
        "print('The R2 score for  Ridge Regressor (test) is : ', ridge.score(X_test, y_test))\n",
        "\n",
        "print('The RMSE for Ridge Regressor is : ', np.sqrt(metrics.mean_squared_error(y_test, y_pred_r)))"
      ],
      "execution_count": null,
      "outputs": [
        {
          "output_type": "stream",
          "name": "stdout",
          "text": [
            "The R2 score for  Ridge Regressor (train) is :  0.6380914179655182\n",
            "The R2 score for  Ridge Regressor (test) is :  0.6361023830591933\n",
            "The RMSE for Ridge Regressor is :  0.6026358480738009\n"
          ]
        }
      ]
    },
    {
      "cell_type": "code",
      "metadata": {
        "colab": {
          "base_uri": "https://localhost:8080/"
        },
        "id": "DxJhx_BewDvd",
        "outputId": "fa2370a1-080e-4f57-da42-82a15fbfaa44"
      },
      "source": [
        "# R2 & RMSE\n",
        "ridge1 = Ridge(normalize=True, alpha=0.1)\n",
        "\n",
        "grid_ridge1 =  GridSearchCV(estimator=ridge1, param_grid={'alpha' : np.arange(0.1, 2, 5)}, cv=10, n_jobs=1, refit=True)\n",
        "\n",
        "grid_ridge1.fit(X_train, y_train)\n",
        "grid_ridge1.best_params_\n",
        "\n",
        "ridge1 = Ridge(alpha=1, normalize=True)\n",
        "ridge1.fit(X_train, y_train)\n",
        "\n",
        "y_pred1= ridge1.predict(X_test)\n",
        "print('The R2 score for  Ridge Regressor (train) is : ', ridge1.score(X_train, y_train))\n",
        "print('The R2 score for  Ridge Regressor (test) is : ', ridge1.score(X_test, y_test))\n",
        "\n",
        "print('The RMSE for Ridge Regressor is : ', np.sqrt(metrics.mean_squared_error(y_test, y_pred1)))"
      ],
      "execution_count": null,
      "outputs": [
        {
          "output_type": "stream",
          "name": "stdout",
          "text": [
            "The R2 score for  Ridge Regressor (train) is :  0.5107208661336784\n",
            "The R2 score for  Ridge Regressor (test) is :  0.5106257326316649\n",
            "The RMSE for Ridge Regressor is :  0.6988531405466433\n"
          ]
        }
      ]
    },
    {
      "cell_type": "code",
      "metadata": {
        "colab": {
          "base_uri": "https://localhost:8080/"
        },
        "id": "bfWE-meEtXN7",
        "outputId": "dc5c63a0-f098-4b19-b4a7-23ee79636407"
      },
      "source": [
        "\n",
        "ridge2 = Ridge(normalize=True, alpha=0.01)\n",
        "\n",
        "grid_ridge2 =  GridSearchCV(estimator=ridge2, param_grid={'alpha' : np.arange(0.1, 2, 5)}, cv=10, n_jobs=1, refit=True)\n",
        "\n",
        "grid_ridge2.fit(X_train, y_train)\n",
        "grid_ridge2.best_params_\n",
        "\n",
        "ridge2 = Ridge(alpha=0.01, normalize=True)\n",
        "ridge2.fit(X_train, y_train)\n",
        "\n",
        "y_pred2= ridge2.predict(X_test)\n",
        "# R2 & RMSE\n",
        "\n",
        "print('The R2 score for  Ridge Regressor (train) is : ', ridge2.score(X_train, y_train))\n",
        "print('The R2 score for  Ridge Regressor (test) is : ', ridge2.score(X_test, y_test))\n",
        "\n",
        "print('The RMSE for Ridge Regressor is : ', np.sqrt(metrics.mean_squared_error(y_test, y_pred2)))"
      ],
      "execution_count": null,
      "outputs": [
        {
          "output_type": "stream",
          "name": "stdout",
          "text": [
            "The R2 score for  Ridge Regressor (train) is :  0.6440572311963866\n",
            "The R2 score for  Ridge Regressor (test) is :  0.642240228409974\n",
            "The RMSE for Ridge Regressor is :  0.597531918227103\n"
          ]
        }
      ]
    },
    {
      "cell_type": "code",
      "metadata": {
        "colab": {
          "base_uri": "https://localhost:8080/"
        },
        "id": "FgSKkzn7uR8S",
        "outputId": "c58d3196-e2a4-4d69-b313-c19794f30498"
      },
      "source": [
        "from sklearn.linear_model import RidgeCV\n",
        "regr_cv=RidgeCV(alphas=[0.01, 0.1, 1])\n",
        "model_cv=regr_cv.fit(dx,y)\n",
        "model_cv.alpha_"
      ],
      "execution_count": null,
      "outputs": [
        {
          "output_type": "execute_result",
          "data": {
            "text/plain": [
              "1.0"
            ]
          },
          "metadata": {},
          "execution_count": 71
        }
      ]
    },
    {
      "cell_type": "markdown",
      "metadata": {
        "id": "TkvF33Os11v_"
      },
      "source": [
        "our best model had an alpha of 0.01, with an rmse of 59% same to that of the multi linear regression model. It makes sense since our data lacked multicollinearity.It is perfoming poorly. could use more bias. the r score speaks of the reverse though."
      ]
    },
    {
      "cell_type": "markdown",
      "metadata": {
        "id": "xoniEZFQ4B4m"
      },
      "source": [
        "### LASSO REGRESSION"
      ]
    },
    {
      "cell_type": "code",
      "metadata": {
        "id": "blTyUzZB6Qzu"
      },
      "source": [
        "import warnings\n",
        "warnings.filterwarnings(\"ignore\")"
      ],
      "execution_count": null,
      "outputs": []
    },
    {
      "cell_type": "code",
      "metadata": {
        "id": "7t4XfCN5BdGI"
      },
      "source": [
        "lasso = Lasso(normalize=True)\n",
        "grid_lasso =  GridSearchCV(estimator=lasso, param_grid={'alpha' : np.arange(0.1, 2, 5)}, scoring='neg_mean_squared_error', cv=10, n_jobs=1, refit=True)"
      ],
      "execution_count": null,
      "outputs": []
    },
    {
      "cell_type": "code",
      "metadata": {
        "colab": {
          "base_uri": "https://localhost:8080/"
        },
        "id": "F6UfKqgADMRC",
        "outputId": "5ac93def-b841-41d1-fa5c-19f6e7b9b97f"
      },
      "source": [
        "# Find the alpha\n",
        "grid_lasso.fit(X_train, y_train)\n",
        "grid_lasso.best_params_"
      ],
      "execution_count": null,
      "outputs": [
        {
          "output_type": "execute_result",
          "data": {
            "text/plain": [
              "{'alpha': 0.1}"
            ]
          },
          "metadata": {},
          "execution_count": 74
        }
      ]
    },
    {
      "cell_type": "code",
      "metadata": {
        "colab": {
          "base_uri": "https://localhost:8080/"
        },
        "id": "TbKw1iek1Yn8",
        "outputId": "8a6df8d2-d9a2-48f4-8254-bbf41707453b"
      },
      "source": [
        "lasso = Lasso(alpha=0.1, normalize=True)\n",
        "lasso.fit(X_train, y_train)\n",
        "\n",
        "# Creating lasso regression with alpha value\n",
        "regr = Lasso(alpha=0.1)\n",
        "\n",
        "# Fitting the linear regression\n",
        "model = regr.fit(dx, y)\n",
        "\n",
        "y_pred3 = lasso.predict(X_test)\n",
        "\n",
        "lasso_pred = pd.DataFrame({'OG' : y_test, 'Predictions' : y_pred3})\n",
        "lasso_pred\n"
      ],
      "execution_count": null,
      "outputs": [
        {
          "output_type": "execute_result",
          "data": {
            "text/html": [
              "<div>\n",
              "<style scoped>\n",
              "    .dataframe tbody tr th:only-of-type {\n",
              "        vertical-align: middle;\n",
              "    }\n",
              "\n",
              "    .dataframe tbody tr th {\n",
              "        vertical-align: top;\n",
              "    }\n",
              "\n",
              "    .dataframe thead th {\n",
              "        text-align: right;\n",
              "    }\n",
              "</style>\n",
              "<table border=\"1\" class=\"dataframe\">\n",
              "  <thead>\n",
              "    <tr style=\"text-align: right;\">\n",
              "      <th></th>\n",
              "      <th>OG</th>\n",
              "      <th>Predictions</th>\n",
              "    </tr>\n",
              "  </thead>\n",
              "  <tbody>\n",
              "    <tr>\n",
              "      <th>0</th>\n",
              "      <td>-0.768467</td>\n",
              "      <td>-0.003705</td>\n",
              "    </tr>\n",
              "    <tr>\n",
              "      <th>1</th>\n",
              "      <td>-1.029957</td>\n",
              "      <td>-0.003705</td>\n",
              "    </tr>\n",
              "    <tr>\n",
              "      <th>2</th>\n",
              "      <td>-0.845537</td>\n",
              "      <td>-0.003705</td>\n",
              "    </tr>\n",
              "    <tr>\n",
              "      <th>3</th>\n",
              "      <td>1.791383</td>\n",
              "      <td>-0.003705</td>\n",
              "    </tr>\n",
              "    <tr>\n",
              "      <th>4</th>\n",
              "      <td>-0.438164</td>\n",
              "      <td>-0.003705</td>\n",
              "    </tr>\n",
              "    <tr>\n",
              "      <th>...</th>\n",
              "      <td>...</td>\n",
              "      <td>...</td>\n",
              "    </tr>\n",
              "    <tr>\n",
              "      <th>3780</th>\n",
              "      <td>0.706887</td>\n",
              "      <td>-0.003705</td>\n",
              "    </tr>\n",
              "    <tr>\n",
              "      <th>3781</th>\n",
              "      <td>-1.318972</td>\n",
              "      <td>-0.003705</td>\n",
              "    </tr>\n",
              "    <tr>\n",
              "      <th>3782</th>\n",
              "      <td>2.259312</td>\n",
              "      <td>-0.003705</td>\n",
              "    </tr>\n",
              "    <tr>\n",
              "      <th>3783</th>\n",
              "      <td>-0.217962</td>\n",
              "      <td>-0.003705</td>\n",
              "    </tr>\n",
              "    <tr>\n",
              "      <th>3784</th>\n",
              "      <td>-0.787734</td>\n",
              "      <td>-0.003705</td>\n",
              "    </tr>\n",
              "  </tbody>\n",
              "</table>\n",
              "<p>3785 rows × 2 columns</p>\n",
              "</div>"
            ],
            "text/plain": [
              "            OG  Predictions\n",
              "0    -0.768467    -0.003705\n",
              "1    -1.029957    -0.003705\n",
              "2    -0.845537    -0.003705\n",
              "3     1.791383    -0.003705\n",
              "4    -0.438164    -0.003705\n",
              "...        ...          ...\n",
              "3780  0.706887    -0.003705\n",
              "3781 -1.318972    -0.003705\n",
              "3782  2.259312    -0.003705\n",
              "3783 -0.217962    -0.003705\n",
              "3784 -0.787734    -0.003705\n",
              "\n",
              "[3785 rows x 2 columns]"
            ]
          },
          "metadata": {},
          "execution_count": 75
        }
      ]
    },
    {
      "cell_type": "code",
      "metadata": {
        "colab": {
          "base_uri": "https://localhost:8080/"
        },
        "id": "DMEDjq4TDXS4",
        "outputId": "d9a9edca-d003-4f02-d5e6-fd3c57a31745"
      },
      "source": [
        "#Coefficients\n",
        "coef_dict2 = {}\n",
        "\n",
        "for coef, features in zip(lasso.coef_ , dx.columns):\n",
        "  coef_dict2[features] = coef\n",
        "\n",
        "coef_dict2"
      ],
      "execution_count": null,
      "outputs": [
        {
          "output_type": "execute_result",
          "data": {
            "text/plain": [
              "{'bathrooms': 0.0,\n",
              " 'bedrooms': 0.0,\n",
              " 'condition': 0.0,\n",
              " 'floors': 0.0,\n",
              " 'grade': 0.0,\n",
              " 'lat': 0.0,\n",
              " 'long': 0.0,\n",
              " 'sqft_basement': 0.0,\n",
              " 'sqft_living': 0.0,\n",
              " 'sqft_lot': -0.0,\n",
              " 'view': 0.0,\n",
              " 'waterfront': 0.0,\n",
              " 'yr_built': -0.0,\n",
              " 'yr_renovated': 0.0}"
            ]
          },
          "metadata": {},
          "execution_count": 76
        }
      ]
    },
    {
      "cell_type": "code",
      "metadata": {
        "colab": {
          "base_uri": "https://localhost:8080/"
        },
        "id": "2QQ1FYpo4m9s",
        "outputId": "0d2a296a-624a-4eaf-c5ab-647708b877b8"
      },
      "source": [
        "# Print scores, MSE, and coefficients\n",
        " \n",
        "print(\"lasso score:\", lasso.score(X, y)) \n",
        "print(\"lasso MSE:\", mean_squared_error(y, lasso.predict(X))) \n",
        "print(\"lasso coef:\", lasso.coef_)"
      ],
      "execution_count": null,
      "outputs": [
        {
          "output_type": "stream",
          "name": "stdout",
          "text": [
            "lasso score: -1.3725018401133937e-05\n",
            "lasso MSE: 1.0000137250184011\n",
            "lasso coef: [ 0.  0.  0. -0.  0.  0.  0.  0.  0.  0. -0.  0.  0.  0.]\n"
          ]
        }
      ]
    },
    {
      "cell_type": "code",
      "metadata": {
        "colab": {
          "base_uri": "https://localhost:8080/"
        },
        "id": "K2lPQKk44m4k",
        "outputId": "379eb60e-8537-42ae-c976-85f9ae1a3013"
      },
      "source": [
        "# R2 & RMSE\n",
        "\n",
        "print('The R2 score for  Lasso Regressor (train) is : ', lasso.score(X_train, y_train))\n",
        "print('The R2 score for  Lasso Regressor (test) is : ', lasso.score(X_test, y_test))\n",
        "print('The RMSE for Lasso Regressor is : ', np.sqrt(metrics.mean_squared_error(y_test, y_pred3)))"
      ],
      "execution_count": null,
      "outputs": [
        {
          "output_type": "stream",
          "name": "stdout",
          "text": [
            "The R2 score for  Lasso Regressor (train) is :  0.0\n",
            "The R2 score for  Lasso Regressor (test) is :  -0.00022001122166770412\n",
            "The RMSE for Lasso Regressor is :  0.9991095866387054\n"
          ]
        }
      ]
    },
    {
      "cell_type": "markdown",
      "metadata": {
        "id": "zT-T0gw2EkLc"
      },
      "source": [
        "our values for lasso and linear regression are very different. Maybe this regression technique was not suitable. Lets try and plot. there is an overfitting. it is perfoming very poorly."
      ]
    },
    {
      "cell_type": "code",
      "metadata": {
        "id": "GNRIp6zh4mtE"
      },
      "source": [
        "\n",
        "# # Importing library for visualization\n",
        "# #\n",
        "# import matplotlib.pyplot as plt\n",
        "# from sklearn.linear_model import Lasso\n",
        "# coefsLasso = [] \n",
        "\n",
        "\n",
        "# alphasLasso = np.arange (0, 0.1, 0.0001)\n",
        "# for i in range(200):\n",
        "#     lasso = Lasso(alpha=alphasLasso[i])\n",
        "#     lasso.fit(X_train, y_train)\n",
        "#     coefsLasso.append(lasso.coef_) \n",
        "\n",
        "# # Building Lasso coefficient plots\n",
        "# # \n",
        "# plt.figure(figsize = (16,7))\n",
        "\n",
        "# plt.subplot(121)\n",
        "# plt.plot(alphasLasso, coefsLasso,)\n",
        "# plt.title('Lasso coefficients')\n",
        "# plt.xlabel('alpha')\n",
        "# plt.ylabel('coefs')\n"
      ],
      "execution_count": null,
      "outputs": []
    },
    {
      "cell_type": "markdown",
      "metadata": {
        "id": "lQUozJqALJ_c"
      },
      "source": [
        "lets try a different alpha"
      ]
    },
    {
      "cell_type": "code",
      "metadata": {
        "id": "2Jdz1zlHLNcq"
      },
      "source": [
        "lasso = Lasso(normalize=True)\n",
        "grid_lasso =  GridSearchCV(estimator=lasso, param_grid={'alpha' : np.arange(0.0001, 2, 5)}, scoring='neg_mean_squared_error', cv=10, n_jobs=1, refit=True)"
      ],
      "execution_count": null,
      "outputs": []
    },
    {
      "cell_type": "code",
      "metadata": {
        "colab": {
          "base_uri": "https://localhost:8080/"
        },
        "id": "D-r60wITLZri",
        "outputId": "e4bd39ac-b69f-4ec4-c42a-5d611bd14ae3"
      },
      "source": [
        "# Find the alpha\n",
        "grid_lasso.fit(X_train, y_train)\n",
        "grid_lasso.best_params_\n",
        "\n",
        "lasso1 = Lasso(alpha=0.0001, normalize=True)\n",
        "lasso1.fit(X_train, y_train)\n",
        "\n",
        "# Creating lasso regression with alpha value\n",
        "regr = Lasso(alpha=0.0001)\n",
        "\n",
        "# Fitting the linear regression\n",
        "model = regr.fit(dx, y)\n",
        "\n",
        "y_pred4 = lasso1.predict(X_test)\n",
        "\n",
        "lasso_p = pd.DataFrame({'OG' : y_test, 'Predictions' : y_pred4})\n",
        "lasso_p"
      ],
      "execution_count": null,
      "outputs": [
        {
          "output_type": "execute_result",
          "data": {
            "text/html": [
              "<div>\n",
              "<style scoped>\n",
              "    .dataframe tbody tr th:only-of-type {\n",
              "        vertical-align: middle;\n",
              "    }\n",
              "\n",
              "    .dataframe tbody tr th {\n",
              "        vertical-align: top;\n",
              "    }\n",
              "\n",
              "    .dataframe thead th {\n",
              "        text-align: right;\n",
              "    }\n",
              "</style>\n",
              "<table border=\"1\" class=\"dataframe\">\n",
              "  <thead>\n",
              "    <tr style=\"text-align: right;\">\n",
              "      <th></th>\n",
              "      <th>OG</th>\n",
              "      <th>Predictions</th>\n",
              "    </tr>\n",
              "  </thead>\n",
              "  <tbody>\n",
              "    <tr>\n",
              "      <th>0</th>\n",
              "      <td>-0.768467</td>\n",
              "      <td>-0.182695</td>\n",
              "    </tr>\n",
              "    <tr>\n",
              "      <th>1</th>\n",
              "      <td>-1.029957</td>\n",
              "      <td>-0.094012</td>\n",
              "    </tr>\n",
              "    <tr>\n",
              "      <th>2</th>\n",
              "      <td>-0.845537</td>\n",
              "      <td>-0.585403</td>\n",
              "    </tr>\n",
              "    <tr>\n",
              "      <th>3</th>\n",
              "      <td>1.791383</td>\n",
              "      <td>0.414214</td>\n",
              "    </tr>\n",
              "    <tr>\n",
              "      <th>4</th>\n",
              "      <td>-0.438164</td>\n",
              "      <td>-0.043545</td>\n",
              "    </tr>\n",
              "    <tr>\n",
              "      <th>...</th>\n",
              "      <td>...</td>\n",
              "      <td>...</td>\n",
              "    </tr>\n",
              "    <tr>\n",
              "      <th>3780</th>\n",
              "      <td>0.706887</td>\n",
              "      <td>0.953663</td>\n",
              "    </tr>\n",
              "    <tr>\n",
              "      <th>3781</th>\n",
              "      <td>-1.318972</td>\n",
              "      <td>-1.418201</td>\n",
              "    </tr>\n",
              "    <tr>\n",
              "      <th>3782</th>\n",
              "      <td>2.259312</td>\n",
              "      <td>1.356757</td>\n",
              "    </tr>\n",
              "    <tr>\n",
              "      <th>3783</th>\n",
              "      <td>-0.217962</td>\n",
              "      <td>0.710518</td>\n",
              "    </tr>\n",
              "    <tr>\n",
              "      <th>3784</th>\n",
              "      <td>-0.787734</td>\n",
              "      <td>-0.079106</td>\n",
              "    </tr>\n",
              "  </tbody>\n",
              "</table>\n",
              "<p>3785 rows × 2 columns</p>\n",
              "</div>"
            ],
            "text/plain": [
              "            OG  Predictions\n",
              "0    -0.768467    -0.182695\n",
              "1    -1.029957    -0.094012\n",
              "2    -0.845537    -0.585403\n",
              "3     1.791383     0.414214\n",
              "4    -0.438164    -0.043545\n",
              "...        ...          ...\n",
              "3780  0.706887     0.953663\n",
              "3781 -1.318972    -1.418201\n",
              "3782  2.259312     1.356757\n",
              "3783 -0.217962     0.710518\n",
              "3784 -0.787734    -0.079106\n",
              "\n",
              "[3785 rows x 2 columns]"
            ]
          },
          "metadata": {},
          "execution_count": 81
        }
      ]
    },
    {
      "cell_type": "code",
      "metadata": {
        "colab": {
          "base_uri": "https://localhost:8080/"
        },
        "id": "ZeF5YiK2OX3T",
        "outputId": "e2fd3d9d-80df-4968-d09e-47f536f9be31"
      },
      "source": [
        "# # print('The R2 score for  Lasso Regressor (train) is : ', lasso.score(X_train, y_train))\n",
        "# print('The R2 score for  Lasso Regressor (test) is : ', lasso.score(X_test, y_test))\n",
        "print('The RMSE for Lasso Regressor is : ', np.sqrt(metrics.mean_squared_error(y_test, y_pred4)))"
      ],
      "execution_count": null,
      "outputs": [
        {
          "output_type": "stream",
          "name": "stdout",
          "text": [
            "The RMSE for Lasso Regressor is :  0.6001104383418093\n"
          ]
        }
      ]
    },
    {
      "cell_type": "markdown",
      "metadata": {
        "id": "Nbv76RS5J8tD"
      },
      "source": [
        "### ELASTIC NET REGRESSION"
      ]
    },
    {
      "cell_type": "markdown",
      "metadata": {
        "id": "Xt7RYWy6KnR_"
      },
      "source": [
        "Since its a combination of lasso and ridge i can already tell our results will be a miss due to the nature of our lasso regression. "
      ]
    },
    {
      "cell_type": "code",
      "metadata": {
        "colab": {
          "base_uri": "https://localhost:8080/"
        },
        "id": "2p-gKgg5Ju6X",
        "outputId": "23b8f5e3-e992-4b73-a794-ddbbaf01ea29"
      },
      "source": [
        "elastic = ElasticNet(normalize=True)\n",
        "\n",
        "grid_net =  GridSearchCV(estimator=elastic, param_grid={'alpha' : np.arange(0.0001, 2, 0.05), 'l1_ratio' : [.2, .4, .6, .8] }, cv=10, n_jobs=1, refit=True)\n",
        "\n",
        "grid_net.fit(X_train, y_train)\n",
        "\n",
        "grid_net.best_params_\n",
        "\n"
      ],
      "execution_count": null,
      "outputs": [
        {
          "output_type": "execute_result",
          "data": {
            "text/plain": [
              "{'alpha': 0.0001, 'l1_ratio': 0.8}"
            ]
          },
          "metadata": {},
          "execution_count": 83
        }
      ]
    },
    {
      "cell_type": "code",
      "metadata": {
        "colab": {
          "base_uri": "https://localhost:8080/"
        },
        "id": "fLXSuVdOPDEA",
        "outputId": "a90bfda5-0951-4ea9-9da8-b777903f2389"
      },
      "source": [
        "elastic_net = ElasticNet(alpha = 0.0001, l1_ratio=0.8, normalize=True)\n",
        "\n",
        "elastic_net.fit(X_train, y_train)"
      ],
      "execution_count": null,
      "outputs": [
        {
          "output_type": "execute_result",
          "data": {
            "text/plain": [
              "ElasticNet(alpha=0.0001, copy_X=True, fit_intercept=True, l1_ratio=0.8,\n",
              "           max_iter=1000, normalize=True, positive=False, precompute=False,\n",
              "           random_state=None, selection='cyclic', tol=0.0001, warm_start=False)"
            ]
          },
          "metadata": {},
          "execution_count": 84
        }
      ]
    },
    {
      "cell_type": "code",
      "metadata": {
        "colab": {
          "base_uri": "https://localhost:8080/"
        },
        "id": "mUnQYEd2PDr8",
        "outputId": "b844a650-f254-441a-f399-bd3e83cc4804"
      },
      "source": [
        "y_pred_en = elastic_net.predict(X_test)\n",
        "\n",
        "pred_df_en = pd.DataFrame({'OG' : y_test, 'Predictions' : y_pred_en})\n",
        "pred_df_en"
      ],
      "execution_count": null,
      "outputs": [
        {
          "output_type": "execute_result",
          "data": {
            "text/html": [
              "<div>\n",
              "<style scoped>\n",
              "    .dataframe tbody tr th:only-of-type {\n",
              "        vertical-align: middle;\n",
              "    }\n",
              "\n",
              "    .dataframe tbody tr th {\n",
              "        vertical-align: top;\n",
              "    }\n",
              "\n",
              "    .dataframe thead th {\n",
              "        text-align: right;\n",
              "    }\n",
              "</style>\n",
              "<table border=\"1\" class=\"dataframe\">\n",
              "  <thead>\n",
              "    <tr style=\"text-align: right;\">\n",
              "      <th></th>\n",
              "      <th>OG</th>\n",
              "      <th>Predictions</th>\n",
              "    </tr>\n",
              "  </thead>\n",
              "  <tbody>\n",
              "    <tr>\n",
              "      <th>0</th>\n",
              "      <td>-0.768467</td>\n",
              "      <td>-0.181129</td>\n",
              "    </tr>\n",
              "    <tr>\n",
              "      <th>1</th>\n",
              "      <td>-1.029957</td>\n",
              "      <td>-0.140657</td>\n",
              "    </tr>\n",
              "    <tr>\n",
              "      <th>2</th>\n",
              "      <td>-0.845537</td>\n",
              "      <td>-0.463042</td>\n",
              "    </tr>\n",
              "    <tr>\n",
              "      <th>3</th>\n",
              "      <td>1.791383</td>\n",
              "      <td>0.304450</td>\n",
              "    </tr>\n",
              "    <tr>\n",
              "      <th>4</th>\n",
              "      <td>-0.438164</td>\n",
              "      <td>-0.056967</td>\n",
              "    </tr>\n",
              "    <tr>\n",
              "      <th>...</th>\n",
              "      <td>...</td>\n",
              "      <td>...</td>\n",
              "    </tr>\n",
              "    <tr>\n",
              "      <th>3780</th>\n",
              "      <td>0.706887</td>\n",
              "      <td>0.711114</td>\n",
              "    </tr>\n",
              "    <tr>\n",
              "      <th>3781</th>\n",
              "      <td>-1.318972</td>\n",
              "      <td>-1.194453</td>\n",
              "    </tr>\n",
              "    <tr>\n",
              "      <th>3782</th>\n",
              "      <td>2.259312</td>\n",
              "      <td>1.135755</td>\n",
              "    </tr>\n",
              "    <tr>\n",
              "      <th>3783</th>\n",
              "      <td>-0.217962</td>\n",
              "      <td>0.669676</td>\n",
              "    </tr>\n",
              "    <tr>\n",
              "      <th>3784</th>\n",
              "      <td>-0.787734</td>\n",
              "      <td>-0.030989</td>\n",
              "    </tr>\n",
              "  </tbody>\n",
              "</table>\n",
              "<p>3785 rows × 2 columns</p>\n",
              "</div>"
            ],
            "text/plain": [
              "            OG  Predictions\n",
              "0    -0.768467    -0.181129\n",
              "1    -1.029957    -0.140657\n",
              "2    -0.845537    -0.463042\n",
              "3     1.791383     0.304450\n",
              "4    -0.438164    -0.056967\n",
              "...        ...          ...\n",
              "3780  0.706887     0.711114\n",
              "3781 -1.318972    -1.194453\n",
              "3782  2.259312     1.135755\n",
              "3783 -0.217962     0.669676\n",
              "3784 -0.787734    -0.030989\n",
              "\n",
              "[3785 rows x 2 columns]"
            ]
          },
          "metadata": {},
          "execution_count": 85
        }
      ]
    },
    {
      "cell_type": "markdown",
      "metadata": {
        "id": "BqjZ1v5RPjP_"
      },
      "source": [
        "since we were using scaled values, we shall assume predictions by their absolute values"
      ]
    },
    {
      "cell_type": "code",
      "metadata": {
        "colab": {
          "base_uri": "https://localhost:8080/"
        },
        "id": "0PkSeFSLPyAX",
        "outputId": "065eb4c7-ec4d-43dc-b1eb-1d0ad19e45c1"
      },
      "source": [
        "coef_dict_en = {}\n",
        "\n",
        "for coef, features in zip(elastic_net.coef_, dx.columns):\n",
        "  coef_dict_en[features] = coef\n",
        "\n",
        "coef_dict_en"
      ],
      "execution_count": null,
      "outputs": [
        {
          "output_type": "execute_result",
          "data": {
            "text/plain": [
              "{'bathrooms': 0.06220260972342893,\n",
              " 'bedrooms': 0.0040722862426785635,\n",
              " 'condition': 0.08332152945741692,\n",
              " 'floors': 0.05136504416069744,\n",
              " 'grade': 0.302388130926835,\n",
              " 'lat': 0.34858098199636584,\n",
              " 'long': 0.0120282344086365,\n",
              " 'sqft_basement': 0.01352269978654,\n",
              " 'sqft_living': 0.2811665212766179,\n",
              " 'sqft_lot': -0.0584056784796968,\n",
              " 'view': 0.0,\n",
              " 'waterfront': 0.0,\n",
              " 'yr_built': -0.18437137585325905,\n",
              " 'yr_renovated': 0.0}"
            ]
          },
          "metadata": {},
          "execution_count": 86
        }
      ]
    },
    {
      "cell_type": "code",
      "metadata": {
        "colab": {
          "base_uri": "https://localhost:8080/"
        },
        "id": "uMuzLwCuP-Ib",
        "outputId": "c98608b6-bde5-4ad5-aeed-a96076a93f31"
      },
      "source": [
        "plt.barh(y=dx.columns, width=elastic_net.coef_)"
      ],
      "execution_count": null,
      "outputs": [
        {
          "output_type": "execute_result",
          "data": {
            "text/plain": [
              "<BarContainer object of 14 artists>"
            ]
          },
          "metadata": {},
          "execution_count": 87
        },
        {
          "output_type": "display_data",
          "data": {
            "image/png": "[encoded data removed]",
            "text/plain": [
              "<Figure size 432x288 with 1 Axes>"
            ]
          },
          "metadata": {
            "needs_background": "light"
          }
        }
      ]
    },
    {
      "cell_type": "code",
      "metadata": {
        "colab": {
          "base_uri": "https://localhost:8080/"
        },
        "id": "i5HQw7L3QHRG",
        "outputId": "84976a25-9f4e-437b-9e32-74a1d7b85b38"
      },
      "source": [
        "print('The R2 score for  Elastic Net Regressor (train) is : ', elastic_net.score(X_train, y_train))\n",
        "print('The R2 score for  Elastic Net Regressor (test) is : ', elastic_net.score(X_test, y_test))\n",
        "print('The RMSE for Elastic Net Regressor is : ', np.sqrt(metrics.mean_squared_error(y_test, y_pred_en)))"
      ],
      "execution_count": null,
      "outputs": [
        {
          "output_type": "stream",
          "name": "stdout",
          "text": [
            "The R2 score for  Elastic Net Regressor (train) is :  0.6174407938485005\n",
            "The R2 score for  Elastic Net Regressor (test) is :  0.6160189694010896\n",
            "The RMSE for Elastic Net Regressor is :  0.6190421796161358\n"
          ]
        }
      ]
    },
    {
      "cell_type": "markdown",
      "metadata": {
        "id": "CFz2fIS1QKJe"
      },
      "source": [
        "changing the alpha values tremendously changes the results. The model performs well."
      ]
    },
    {
      "cell_type": "markdown",
      "metadata": {
        "id": "2B3HRGgbRzFt"
      },
      "source": [
        "### QUANTILE REGRESSION"
      ]
    },
    {
      "cell_type": "code",
      "metadata": {
        "colab": {
          "base_uri": "https://localhost:8080/",
          "height": 408
        },
        "id": "7rWjFdqWNB0X",
        "outputId": "230b0915-c43d-4963-f43a-99509e8f71c3"
      },
      "source": [
        "housing.T.drop_duplicates().T"
      ],
      "execution_count": null,
      "outputs": [
        {
          "output_type": "execute_result",
          "data": {
            "text/html": [
              "<div>\n",
              "<style scoped>\n",
              "    .dataframe tbody tr th:only-of-type {\n",
              "        vertical-align: middle;\n",
              "    }\n",
              "\n",
              "    .dataframe tbody tr th {\n",
              "        vertical-align: top;\n",
              "    }\n",
              "\n",
              "    .dataframe thead th {\n",
              "        text-align: right;\n",
              "    }\n",
              "</style>\n",
              "<table border=\"1\" class=\"dataframe\">\n",
              "  <thead>\n",
              "    <tr style=\"text-align: right;\">\n",
              "      <th></th>\n",
              "      <th>id</th>\n",
              "      <th>price</th>\n",
              "      <th>bedrooms</th>\n",
              "      <th>bathrooms</th>\n",
              "      <th>sqft_living</th>\n",
              "      <th>sqft_lot</th>\n",
              "      <th>floors</th>\n",
              "      <th>waterfront</th>\n",
              "      <th>condition</th>\n",
              "      <th>grade</th>\n",
              "      <th>sqft_basement</th>\n",
              "      <th>yr_built</th>\n",
              "      <th>zipcode</th>\n",
              "      <th>lat</th>\n",
              "      <th>long</th>\n",
              "    </tr>\n",
              "  </thead>\n",
              "  <tbody>\n",
              "    <tr>\n",
              "      <th>0</th>\n",
              "      <td>7.129301e+09</td>\n",
              "      <td>221900.0</td>\n",
              "      <td>3.0</td>\n",
              "      <td>1.00</td>\n",
              "      <td>1180.0</td>\n",
              "      <td>5650.0</td>\n",
              "      <td>1.0</td>\n",
              "      <td>0.0</td>\n",
              "      <td>3.0</td>\n",
              "      <td>7.0</td>\n",
              "      <td>0.0</td>\n",
              "      <td>1955.0</td>\n",
              "      <td>98178.0</td>\n",
              "      <td>47.5112</td>\n",
              "      <td>-122.257</td>\n",
              "    </tr>\n",
              "    <tr>\n",
              "      <th>2</th>\n",
              "      <td>5.631500e+09</td>\n",
              "      <td>180000.0</td>\n",
              "      <td>2.0</td>\n",
              "      <td>1.00</td>\n",
              "      <td>770.0</td>\n",
              "      <td>10000.0</td>\n",
              "      <td>1.0</td>\n",
              "      <td>0.0</td>\n",
              "      <td>3.0</td>\n",
              "      <td>6.0</td>\n",
              "      <td>0.0</td>\n",
              "      <td>1933.0</td>\n",
              "      <td>98028.0</td>\n",
              "      <td>47.7379</td>\n",
              "      <td>-122.233</td>\n",
              "    </tr>\n",
              "    <tr>\n",
              "      <th>3</th>\n",
              "      <td>2.487201e+09</td>\n",
              "      <td>604000.0</td>\n",
              "      <td>4.0</td>\n",
              "      <td>3.00</td>\n",
              "      <td>1960.0</td>\n",
              "      <td>5000.0</td>\n",
              "      <td>1.0</td>\n",
              "      <td>0.0</td>\n",
              "      <td>5.0</td>\n",
              "      <td>7.0</td>\n",
              "      <td>910.0</td>\n",
              "      <td>1965.0</td>\n",
              "      <td>98136.0</td>\n",
              "      <td>47.5208</td>\n",
              "      <td>-122.393</td>\n",
              "    </tr>\n",
              "    <tr>\n",
              "      <th>4</th>\n",
              "      <td>1.954401e+09</td>\n",
              "      <td>510000.0</td>\n",
              "      <td>3.0</td>\n",
              "      <td>2.00</td>\n",
              "      <td>1680.0</td>\n",
              "      <td>8080.0</td>\n",
              "      <td>1.0</td>\n",
              "      <td>0.0</td>\n",
              "      <td>3.0</td>\n",
              "      <td>8.0</td>\n",
              "      <td>0.0</td>\n",
              "      <td>1987.0</td>\n",
              "      <td>98074.0</td>\n",
              "      <td>47.6168</td>\n",
              "      <td>-122.045</td>\n",
              "    </tr>\n",
              "    <tr>\n",
              "      <th>6</th>\n",
              "      <td>1.321400e+09</td>\n",
              "      <td>257500.0</td>\n",
              "      <td>3.0</td>\n",
              "      <td>2.25</td>\n",
              "      <td>1715.0</td>\n",
              "      <td>6819.0</td>\n",
              "      <td>2.0</td>\n",
              "      <td>0.0</td>\n",
              "      <td>3.0</td>\n",
              "      <td>7.0</td>\n",
              "      <td>0.0</td>\n",
              "      <td>1995.0</td>\n",
              "      <td>98003.0</td>\n",
              "      <td>47.3097</td>\n",
              "      <td>-122.327</td>\n",
              "    </tr>\n",
              "    <tr>\n",
              "      <th>...</th>\n",
              "      <td>...</td>\n",
              "      <td>...</td>\n",
              "      <td>...</td>\n",
              "      <td>...</td>\n",
              "      <td>...</td>\n",
              "      <td>...</td>\n",
              "      <td>...</td>\n",
              "      <td>...</td>\n",
              "      <td>...</td>\n",
              "      <td>...</td>\n",
              "      <td>...</td>\n",
              "      <td>...</td>\n",
              "      <td>...</td>\n",
              "      <td>...</td>\n",
              "      <td>...</td>\n",
              "    </tr>\n",
              "    <tr>\n",
              "      <th>21608</th>\n",
              "      <td>2.630000e+08</td>\n",
              "      <td>360000.0</td>\n",
              "      <td>3.0</td>\n",
              "      <td>2.50</td>\n",
              "      <td>1530.0</td>\n",
              "      <td>1131.0</td>\n",
              "      <td>3.0</td>\n",
              "      <td>0.0</td>\n",
              "      <td>3.0</td>\n",
              "      <td>8.0</td>\n",
              "      <td>0.0</td>\n",
              "      <td>2009.0</td>\n",
              "      <td>98103.0</td>\n",
              "      <td>47.6993</td>\n",
              "      <td>-122.346</td>\n",
              "    </tr>\n",
              "    <tr>\n",
              "      <th>21609</th>\n",
              "      <td>6.600060e+09</td>\n",
              "      <td>400000.0</td>\n",
              "      <td>4.0</td>\n",
              "      <td>2.50</td>\n",
              "      <td>2310.0</td>\n",
              "      <td>5813.0</td>\n",
              "      <td>2.0</td>\n",
              "      <td>0.0</td>\n",
              "      <td>3.0</td>\n",
              "      <td>8.0</td>\n",
              "      <td>0.0</td>\n",
              "      <td>2014.0</td>\n",
              "      <td>98146.0</td>\n",
              "      <td>47.5107</td>\n",
              "      <td>-122.362</td>\n",
              "    </tr>\n",
              "    <tr>\n",
              "      <th>21610</th>\n",
              "      <td>1.523300e+09</td>\n",
              "      <td>402101.0</td>\n",
              "      <td>2.0</td>\n",
              "      <td>0.75</td>\n",
              "      <td>1020.0</td>\n",
              "      <td>1350.0</td>\n",
              "      <td>2.0</td>\n",
              "      <td>0.0</td>\n",
              "      <td>3.0</td>\n",
              "      <td>7.0</td>\n",
              "      <td>0.0</td>\n",
              "      <td>2009.0</td>\n",
              "      <td>98144.0</td>\n",
              "      <td>47.5944</td>\n",
              "      <td>-122.299</td>\n",
              "    </tr>\n",
              "    <tr>\n",
              "      <th>21611</th>\n",
              "      <td>2.913101e+08</td>\n",
              "      <td>400000.0</td>\n",
              "      <td>3.0</td>\n",
              "      <td>2.50</td>\n",
              "      <td>1600.0</td>\n",
              "      <td>2388.0</td>\n",
              "      <td>2.0</td>\n",
              "      <td>0.0</td>\n",
              "      <td>3.0</td>\n",
              "      <td>8.0</td>\n",
              "      <td>0.0</td>\n",
              "      <td>2004.0</td>\n",
              "      <td>98027.0</td>\n",
              "      <td>47.5345</td>\n",
              "      <td>-122.069</td>\n",
              "    </tr>\n",
              "    <tr>\n",
              "      <th>21612</th>\n",
              "      <td>1.523300e+09</td>\n",
              "      <td>325000.0</td>\n",
              "      <td>2.0</td>\n",
              "      <td>0.75</td>\n",
              "      <td>1020.0</td>\n",
              "      <td>1076.0</td>\n",
              "      <td>2.0</td>\n",
              "      <td>0.0</td>\n",
              "      <td>3.0</td>\n",
              "      <td>7.0</td>\n",
              "      <td>0.0</td>\n",
              "      <td>2008.0</td>\n",
              "      <td>98144.0</td>\n",
              "      <td>47.5941</td>\n",
              "      <td>-122.299</td>\n",
              "    </tr>\n",
              "  </tbody>\n",
              "</table>\n",
              "<p>15139 rows × 15 columns</p>\n",
              "</div>"
            ],
            "text/plain": [
              "                 id     price  bedrooms  ...  zipcode      lat     long\n",
              "0      7.129301e+09  221900.0       3.0  ...  98178.0  47.5112 -122.257\n",
              "2      5.631500e+09  180000.0       2.0  ...  98028.0  47.7379 -122.233\n",
              "3      2.487201e+09  604000.0       4.0  ...  98136.0  47.5208 -122.393\n",
              "4      1.954401e+09  510000.0       3.0  ...  98074.0  47.6168 -122.045\n",
              "6      1.321400e+09  257500.0       3.0  ...  98003.0  47.3097 -122.327\n",
              "...             ...       ...       ...  ...      ...      ...      ...\n",
              "21608  2.630000e+08  360000.0       3.0  ...  98103.0  47.6993 -122.346\n",
              "21609  6.600060e+09  400000.0       4.0  ...  98146.0  47.5107 -122.362\n",
              "21610  1.523300e+09  402101.0       2.0  ...  98144.0  47.5944 -122.299\n",
              "21611  2.913101e+08  400000.0       3.0  ...  98027.0  47.5345 -122.069\n",
              "21612  1.523300e+09  325000.0       2.0  ...  98144.0  47.5941 -122.299\n",
              "\n",
              "[15139 rows x 15 columns]"
            ]
          },
          "metadata": {},
          "execution_count": 89
        }
      ]
    },
    {
      "cell_type": "code",
      "metadata": {
        "colab": {
          "base_uri": "https://localhost:8080/"
        },
        "id": "zoPbhSZlNYAN",
        "outputId": "fc8c87e4-9000-4ec9-8ea0-51fbdc02ec4c"
      },
      "source": [
        "housing.duplicated().sum()"
      ],
      "execution_count": null,
      "outputs": [
        {
          "output_type": "execute_result",
          "data": {
            "text/plain": [
              "0"
            ]
          },
          "metadata": {},
          "execution_count": 90
        }
      ]
    },
    {
      "cell_type": "code",
      "metadata": {
        "colab": {
          "base_uri": "https://localhost:8080/"
        },
        "id": "eqt5DRimGimf",
        "outputId": "92aba0f6-cbdf-4c63-b530-3bb0913a5f0b"
      },
      "source": [
        "y1=housing['price'].values\n",
        "X1=housing.iloc[:,2:].values\n",
        "print(X1.shape, y1.shape)\n",
        "print(housing.columns)"
      ],
      "execution_count": null,
      "outputs": [
        {
          "output_type": "stream",
          "name": "stdout",
          "text": [
            "(15139, 15) (15139,)\n",
            "Index(['id', 'price', 'bedrooms', 'bathrooms', 'sqft_living', 'sqft_lot',\n",
            "       'floors', 'waterfront', 'view', 'condition', 'grade', 'sqft_basement',\n",
            "       'yr_built', 'yr_renovated', 'zipcode', 'lat', 'long'],\n",
            "      dtype='object')\n"
          ]
        }
      ]
    },
    {
      "cell_type": "code",
      "metadata": {
        "id": "mxYefR5mUXDt"
      },
      "source": [
        "X1_train, X1_test, y1_train, y1_test = train_test_split(X1, y1, test_size=0.2, random_state=0)"
      ],
      "execution_count": null,
      "outputs": []
    },
    {
      "cell_type": "code",
      "metadata": {
        "colab": {
          "base_uri": "https://localhost:8080/",
          "height": 337
        },
        "id": "-L7rI7VhXcd-",
        "outputId": "82e788dc-2b7e-44ca-feb2-d14e53fd3d65"
      },
      "source": [
        "# Find the regression coefficients for the conditioned median, 0.5 quantile\n",
        "import statsmodels.formula.api as smf\n",
        "model = smf.quantreg('y1 ~ X1', housing).fit(q=0.5)\n",
        "print(model.summary())\n",
        "\n"
      ],
      "execution_count": null,
      "outputs": [
        {
          "output_type": "error",
          "ename": "ValueError",
          "evalue": "ignored",
          "traceback": [
            "\u001b[0;31m---------------------------------------------------------------------------\u001b[0m",
            "\u001b[0;31mValueError\u001b[0m                                Traceback (most recent call last)",
            "\u001b[0;32m<ipython-input-93-01edcc1832c8>\u001b[0m in \u001b[0;36m<module>\u001b[0;34m()\u001b[0m\n\u001b[1;32m      1\u001b[0m \u001b[0;31m# Find the regression coefficients for the conditioned median, 0.5 quantile\u001b[0m\u001b[0;34m\u001b[0m\u001b[0;34m\u001b[0m\u001b[0;34m\u001b[0m\u001b[0m\n\u001b[1;32m      2\u001b[0m \u001b[0;32mimport\u001b[0m \u001b[0mstatsmodels\u001b[0m\u001b[0;34m.\u001b[0m\u001b[0mformula\u001b[0m\u001b[0;34m.\u001b[0m\u001b[0mapi\u001b[0m \u001b[0;32mas\u001b[0m \u001b[0msmf\u001b[0m\u001b[0;34m\u001b[0m\u001b[0;34m\u001b[0m\u001b[0m\n\u001b[0;32m----> 3\u001b[0;31m \u001b[0mmodel\u001b[0m \u001b[0;34m=\u001b[0m \u001b[0msmf\u001b[0m\u001b[0;34m.\u001b[0m\u001b[0mquantreg\u001b[0m\u001b[0;34m(\u001b[0m\u001b[0;34m'y1 ~ X1'\u001b[0m\u001b[0;34m,\u001b[0m \u001b[0mhousing\u001b[0m\u001b[0;34m)\u001b[0m\u001b[0;34m.\u001b[0m\u001b[0mfit\u001b[0m\u001b[0;34m(\u001b[0m\u001b[0mq\u001b[0m\u001b[0;34m=\u001b[0m\u001b[0;36m0.5\u001b[0m\u001b[0;34m)\u001b[0m\u001b[0;34m\u001b[0m\u001b[0;34m\u001b[0m\u001b[0m\n\u001b[0m\u001b[1;32m      4\u001b[0m \u001b[0mprint\u001b[0m\u001b[0;34m(\u001b[0m\u001b[0mmodel\u001b[0m\u001b[0;34m.\u001b[0m\u001b[0msummary\u001b[0m\u001b[0;34m(\u001b[0m\u001b[0;34m)\u001b[0m\u001b[0;34m)\u001b[0m\u001b[0;34m\u001b[0m\u001b[0;34m\u001b[0m\u001b[0m\n\u001b[1;32m      5\u001b[0m \u001b[0;34m\u001b[0m\u001b[0m\n",
            "\u001b[0;32m/usr/local/lib/python3.7/dist-packages/statsmodels/regression/quantile_regression.py\u001b[0m in \u001b[0;36mfit\u001b[0;34m(self, q, vcov, kernel, bandwidth, max_iter, p_tol, **kwargs)\u001b[0m\n\u001b[1;32m    176\u001b[0m             \u001b[0mresid\u001b[0m \u001b[0;34m=\u001b[0m \u001b[0mnp\u001b[0m\u001b[0;34m.\u001b[0m\u001b[0mabs\u001b[0m\u001b[0;34m(\u001b[0m\u001b[0mresid\u001b[0m\u001b[0;34m)\u001b[0m\u001b[0;34m\u001b[0m\u001b[0;34m\u001b[0m\u001b[0m\n\u001b[1;32m    177\u001b[0m             \u001b[0mxstar\u001b[0m \u001b[0;34m=\u001b[0m \u001b[0mexog\u001b[0m \u001b[0;34m/\u001b[0m \u001b[0mresid\u001b[0m\u001b[0;34m[\u001b[0m\u001b[0;34m:\u001b[0m\u001b[0;34m,\u001b[0m \u001b[0mnp\u001b[0m\u001b[0;34m.\u001b[0m\u001b[0mnewaxis\u001b[0m\u001b[0;34m]\u001b[0m\u001b[0;34m\u001b[0m\u001b[0;34m\u001b[0m\u001b[0m\n\u001b[0;32m--> 178\u001b[0;31m             \u001b[0mdiff\u001b[0m \u001b[0;34m=\u001b[0m \u001b[0mnp\u001b[0m\u001b[0;34m.\u001b[0m\u001b[0mmax\u001b[0m\u001b[0;34m(\u001b[0m\u001b[0mnp\u001b[0m\u001b[0;34m.\u001b[0m\u001b[0mabs\u001b[0m\u001b[0;34m(\u001b[0m\u001b[0mbeta\u001b[0m \u001b[0;34m-\u001b[0m \u001b[0mbeta0\u001b[0m\u001b[0;34m)\u001b[0m\u001b[0;34m)\u001b[0m\u001b[0;34m\u001b[0m\u001b[0;34m\u001b[0m\u001b[0m\n\u001b[0m\u001b[1;32m    179\u001b[0m             \u001b[0mhistory\u001b[0m\u001b[0;34m[\u001b[0m\u001b[0;34m'params'\u001b[0m\u001b[0;34m]\u001b[0m\u001b[0;34m.\u001b[0m\u001b[0mappend\u001b[0m\u001b[0;34m(\u001b[0m\u001b[0mbeta\u001b[0m\u001b[0;34m)\u001b[0m\u001b[0;34m\u001b[0m\u001b[0;34m\u001b[0m\u001b[0m\n\u001b[1;32m    180\u001b[0m             \u001b[0mhistory\u001b[0m\u001b[0;34m[\u001b[0m\u001b[0;34m'mse'\u001b[0m\u001b[0;34m]\u001b[0m\u001b[0;34m.\u001b[0m\u001b[0mappend\u001b[0m\u001b[0;34m(\u001b[0m\u001b[0mnp\u001b[0m\u001b[0;34m.\u001b[0m\u001b[0mmean\u001b[0m\u001b[0;34m(\u001b[0m\u001b[0mresid\u001b[0m\u001b[0;34m*\u001b[0m\u001b[0mresid\u001b[0m\u001b[0;34m)\u001b[0m\u001b[0;34m)\u001b[0m\u001b[0;34m\u001b[0m\u001b[0;34m\u001b[0m\u001b[0m\n",
            "\u001b[0;31mValueError\u001b[0m: operands could not be broadcast together with shapes (16,) (13,) "
          ]
        }
      ]
    },
    {
      "cell_type": "code",
      "metadata": {
        "colab": {
          "base_uri": "https://localhost:8080/"
        },
        "id": "Y8NSUUFvPW47",
        "outputId": "c742a6bb-33b5-49c5-d34d-6908b41f1ad0"
      },
      "source": [
        "pd.get_dummies"
      ],
      "execution_count": null,
      "outputs": [
        {
          "output_type": "execute_result",
          "data": {
            "text/plain": [
              "<function pandas.core.reshape.reshape.get_dummies>"
            ]
          },
          "metadata": {},
          "execution_count": 94
        }
      ]
    },
    {
      "cell_type": "markdown",
      "metadata": {
        "id": "PBc4Iy8LMZPX"
      },
      "source": [
        "the error suggests that i might have redundant columns or my design matrix has fewer rows than columns or does not have a full rank and i'm not sure of how to go about it."
      ]
    },
    {
      "cell_type": "code",
      "metadata": {
        "id": "-xsBZnrcYh_j"
      },
      "source": [
        "# #we can do the models for other quantiles\n",
        "# quantiles = np.arange(0.1,1,0.1) \n",
        "# models = []\n",
        "# params = []\n",
        "\n",
        "# for qt in quantiles: \n",
        "# \tres = mod.fit(q = qt )\n",
        "# \tmodels.append(res)\n",
        "# \tparams.append([qt, res.params['Intercept'], res.params['x']] + res.conf_int().loc['x'].tolist())\n",
        "\n",
        "# # Lastly we make a dataframe of the same name, so we we can view our different models.\n",
        "# params = pd.DataFrame(dx = params, columns = ['qt', 'intercept', 'x_coef', 'cf_lower_bound', 'cf_upper_bound'])\n",
        "# print(params)"
      ],
      "execution_count": null,
      "outputs": []
    },
    {
      "cell_type": "markdown",
      "metadata": {
        "id": "UVVgQiyBRC6-"
      },
      "source": [
        "## CONCLUSION"
      ]
    },
    {
      "cell_type": "markdown",
      "metadata": {
        "id": "A62K1Y4YFpst"
      },
      "source": [
        "The multi linear regression perfomed best followed closely by the ridge. This is because there was no multicollinearity between our predictor variables."
      ]
    },
    {
      "cell_type": "markdown",
      "metadata": {
        "id": "CSSrE2EXRbAb"
      },
      "source": [
        "## RECOMMENDATION"
      ]
    },
    {
      "cell_type": "markdown",
      "metadata": {
        "id": "oX71iUFMRfpt"
      },
      "source": [
        "A more personalised approach of scaling values could be used.(different scaling).  The model could use a bit more tuning and bias."
      ]
    }
  ]
}